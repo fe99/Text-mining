{
  "nbformat": 4,
  "nbformat_minor": 0,
  "metadata": {
    "kernelspec": {
      "display_name": "Python 3",
      "language": "python",
      "name": "python3"
    },
    "language_info": {
      "codemirror_mode": {
        "name": "ipython",
        "version": 3
      },
      "file_extension": ".py",
      "mimetype": "text/x-python",
      "name": "python",
      "nbconvert_exporter": "python",
      "pygments_lexer": "ipython3",
      "version": "3.5.2"
    },
    "colab": {
      "name": "project_work_group_3 (1).ipynb",
      "provenance": [],
      "collapsed_sections": []
    },
    "widgets": {
      "application/vnd.jupyter.widget-state+json": {
        "456b7478161643d19e16eaced91c1623": {
          "model_module": "@jupyter-widgets/controls",
          "model_name": "HBoxModel",
          "model_module_version": "1.5.0",
          "state": {
            "_dom_classes": [],
            "_model_module": "@jupyter-widgets/controls",
            "_model_module_version": "1.5.0",
            "_model_name": "HBoxModel",
            "_view_count": null,
            "_view_module": "@jupyter-widgets/controls",
            "_view_module_version": "1.5.0",
            "_view_name": "HBoxView",
            "box_style": "",
            "children": [
              "IPY_MODEL_0b22923b248d4b71aac8a7b2ab0e42d0",
              "IPY_MODEL_d409bffd3d9b4b24ab9c0d420eb58567",
              "IPY_MODEL_d6017c08e21a426dbf3cd47159333dd9"
            ],
            "layout": "IPY_MODEL_4b6ecc4872984d369693a158c675d5d3"
          }
        },
        "0b22923b248d4b71aac8a7b2ab0e42d0": {
          "model_module": "@jupyter-widgets/controls",
          "model_name": "HTMLModel",
          "model_module_version": "1.5.0",
          "state": {
            "_dom_classes": [],
            "_model_module": "@jupyter-widgets/controls",
            "_model_module_version": "1.5.0",
            "_model_name": "HTMLModel",
            "_view_count": null,
            "_view_module": "@jupyter-widgets/controls",
            "_view_module_version": "1.5.0",
            "_view_name": "HTMLView",
            "description": "",
            "description_tooltip": null,
            "layout": "IPY_MODEL_77a000be21ef4aca9e4ae4d2fd35985c",
            "placeholder": "​",
            "style": "IPY_MODEL_6a2482a35a854429ae9dcf071b17580d",
            "value": "Downloading: 100%"
          }
        },
        "d409bffd3d9b4b24ab9c0d420eb58567": {
          "model_module": "@jupyter-widgets/controls",
          "model_name": "FloatProgressModel",
          "model_module_version": "1.5.0",
          "state": {
            "_dom_classes": [],
            "_model_module": "@jupyter-widgets/controls",
            "_model_module_version": "1.5.0",
            "_model_name": "FloatProgressModel",
            "_view_count": null,
            "_view_module": "@jupyter-widgets/controls",
            "_view_module_version": "1.5.0",
            "_view_name": "ProgressView",
            "bar_style": "success",
            "description": "",
            "description_tooltip": null,
            "layout": "IPY_MODEL_b00f274e6fbe45b1b995547e59bd3082",
            "max": 28,
            "min": 0,
            "orientation": "horizontal",
            "style": "IPY_MODEL_7691ebc23c044d84af0dad92bd51546f",
            "value": 28
          }
        },
        "d6017c08e21a426dbf3cd47159333dd9": {
          "model_module": "@jupyter-widgets/controls",
          "model_name": "HTMLModel",
          "model_module_version": "1.5.0",
          "state": {
            "_dom_classes": [],
            "_model_module": "@jupyter-widgets/controls",
            "_model_module_version": "1.5.0",
            "_model_name": "HTMLModel",
            "_view_count": null,
            "_view_module": "@jupyter-widgets/controls",
            "_view_module_version": "1.5.0",
            "_view_name": "HTMLView",
            "description": "",
            "description_tooltip": null,
            "layout": "IPY_MODEL_4a97cf137bdf43b9bba237ff7b389d50",
            "placeholder": "​",
            "style": "IPY_MODEL_ebbbf825a8f5400c86b3a20032399eb8",
            "value": " 28.0/28.0 [00:00&lt;00:00, 597B/s]"
          }
        },
        "4b6ecc4872984d369693a158c675d5d3": {
          "model_module": "@jupyter-widgets/base",
          "model_name": "LayoutModel",
          "model_module_version": "1.2.0",
          "state": {
            "_model_module": "@jupyter-widgets/base",
            "_model_module_version": "1.2.0",
            "_model_name": "LayoutModel",
            "_view_count": null,
            "_view_module": "@jupyter-widgets/base",
            "_view_module_version": "1.2.0",
            "_view_name": "LayoutView",
            "align_content": null,
            "align_items": null,
            "align_self": null,
            "border": null,
            "bottom": null,
            "display": null,
            "flex": null,
            "flex_flow": null,
            "grid_area": null,
            "grid_auto_columns": null,
            "grid_auto_flow": null,
            "grid_auto_rows": null,
            "grid_column": null,
            "grid_gap": null,
            "grid_row": null,
            "grid_template_areas": null,
            "grid_template_columns": null,
            "grid_template_rows": null,
            "height": null,
            "justify_content": null,
            "justify_items": null,
            "left": null,
            "margin": null,
            "max_height": null,
            "max_width": null,
            "min_height": null,
            "min_width": null,
            "object_fit": null,
            "object_position": null,
            "order": null,
            "overflow": null,
            "overflow_x": null,
            "overflow_y": null,
            "padding": null,
            "right": null,
            "top": null,
            "visibility": null,
            "width": null
          }
        },
        "77a000be21ef4aca9e4ae4d2fd35985c": {
          "model_module": "@jupyter-widgets/base",
          "model_name": "LayoutModel",
          "model_module_version": "1.2.0",
          "state": {
            "_model_module": "@jupyter-widgets/base",
            "_model_module_version": "1.2.0",
            "_model_name": "LayoutModel",
            "_view_count": null,
            "_view_module": "@jupyter-widgets/base",
            "_view_module_version": "1.2.0",
            "_view_name": "LayoutView",
            "align_content": null,
            "align_items": null,
            "align_self": null,
            "border": null,
            "bottom": null,
            "display": null,
            "flex": null,
            "flex_flow": null,
            "grid_area": null,
            "grid_auto_columns": null,
            "grid_auto_flow": null,
            "grid_auto_rows": null,
            "grid_column": null,
            "grid_gap": null,
            "grid_row": null,
            "grid_template_areas": null,
            "grid_template_columns": null,
            "grid_template_rows": null,
            "height": null,
            "justify_content": null,
            "justify_items": null,
            "left": null,
            "margin": null,
            "max_height": null,
            "max_width": null,
            "min_height": null,
            "min_width": null,
            "object_fit": null,
            "object_position": null,
            "order": null,
            "overflow": null,
            "overflow_x": null,
            "overflow_y": null,
            "padding": null,
            "right": null,
            "top": null,
            "visibility": null,
            "width": null
          }
        },
        "6a2482a35a854429ae9dcf071b17580d": {
          "model_module": "@jupyter-widgets/controls",
          "model_name": "DescriptionStyleModel",
          "model_module_version": "1.5.0",
          "state": {
            "_model_module": "@jupyter-widgets/controls",
            "_model_module_version": "1.5.0",
            "_model_name": "DescriptionStyleModel",
            "_view_count": null,
            "_view_module": "@jupyter-widgets/base",
            "_view_module_version": "1.2.0",
            "_view_name": "StyleView",
            "description_width": ""
          }
        },
        "b00f274e6fbe45b1b995547e59bd3082": {
          "model_module": "@jupyter-widgets/base",
          "model_name": "LayoutModel",
          "model_module_version": "1.2.0",
          "state": {
            "_model_module": "@jupyter-widgets/base",
            "_model_module_version": "1.2.0",
            "_model_name": "LayoutModel",
            "_view_count": null,
            "_view_module": "@jupyter-widgets/base",
            "_view_module_version": "1.2.0",
            "_view_name": "LayoutView",
            "align_content": null,
            "align_items": null,
            "align_self": null,
            "border": null,
            "bottom": null,
            "display": null,
            "flex": null,
            "flex_flow": null,
            "grid_area": null,
            "grid_auto_columns": null,
            "grid_auto_flow": null,
            "grid_auto_rows": null,
            "grid_column": null,
            "grid_gap": null,
            "grid_row": null,
            "grid_template_areas": null,
            "grid_template_columns": null,
            "grid_template_rows": null,
            "height": null,
            "justify_content": null,
            "justify_items": null,
            "left": null,
            "margin": null,
            "max_height": null,
            "max_width": null,
            "min_height": null,
            "min_width": null,
            "object_fit": null,
            "object_position": null,
            "order": null,
            "overflow": null,
            "overflow_x": null,
            "overflow_y": null,
            "padding": null,
            "right": null,
            "top": null,
            "visibility": null,
            "width": null
          }
        },
        "7691ebc23c044d84af0dad92bd51546f": {
          "model_module": "@jupyter-widgets/controls",
          "model_name": "ProgressStyleModel",
          "model_module_version": "1.5.0",
          "state": {
            "_model_module": "@jupyter-widgets/controls",
            "_model_module_version": "1.5.0",
            "_model_name": "ProgressStyleModel",
            "_view_count": null,
            "_view_module": "@jupyter-widgets/base",
            "_view_module_version": "1.2.0",
            "_view_name": "StyleView",
            "bar_color": null,
            "description_width": ""
          }
        },
        "4a97cf137bdf43b9bba237ff7b389d50": {
          "model_module": "@jupyter-widgets/base",
          "model_name": "LayoutModel",
          "model_module_version": "1.2.0",
          "state": {
            "_model_module": "@jupyter-widgets/base",
            "_model_module_version": "1.2.0",
            "_model_name": "LayoutModel",
            "_view_count": null,
            "_view_module": "@jupyter-widgets/base",
            "_view_module_version": "1.2.0",
            "_view_name": "LayoutView",
            "align_content": null,
            "align_items": null,
            "align_self": null,
            "border": null,
            "bottom": null,
            "display": null,
            "flex": null,
            "flex_flow": null,
            "grid_area": null,
            "grid_auto_columns": null,
            "grid_auto_flow": null,
            "grid_auto_rows": null,
            "grid_column": null,
            "grid_gap": null,
            "grid_row": null,
            "grid_template_areas": null,
            "grid_template_columns": null,
            "grid_template_rows": null,
            "height": null,
            "justify_content": null,
            "justify_items": null,
            "left": null,
            "margin": null,
            "max_height": null,
            "max_width": null,
            "min_height": null,
            "min_width": null,
            "object_fit": null,
            "object_position": null,
            "order": null,
            "overflow": null,
            "overflow_x": null,
            "overflow_y": null,
            "padding": null,
            "right": null,
            "top": null,
            "visibility": null,
            "width": null
          }
        },
        "ebbbf825a8f5400c86b3a20032399eb8": {
          "model_module": "@jupyter-widgets/controls",
          "model_name": "DescriptionStyleModel",
          "model_module_version": "1.5.0",
          "state": {
            "_model_module": "@jupyter-widgets/controls",
            "_model_module_version": "1.5.0",
            "_model_name": "DescriptionStyleModel",
            "_view_count": null,
            "_view_module": "@jupyter-widgets/base",
            "_view_module_version": "1.2.0",
            "_view_name": "StyleView",
            "description_width": ""
          }
        },
        "c653009265834d54a0664f619ab29680": {
          "model_module": "@jupyter-widgets/controls",
          "model_name": "HBoxModel",
          "model_module_version": "1.5.0",
          "state": {
            "_dom_classes": [],
            "_model_module": "@jupyter-widgets/controls",
            "_model_module_version": "1.5.0",
            "_model_name": "HBoxModel",
            "_view_count": null,
            "_view_module": "@jupyter-widgets/controls",
            "_view_module_version": "1.5.0",
            "_view_name": "HBoxView",
            "box_style": "",
            "children": [
              "IPY_MODEL_fd1eae941f03439d8374a65d68e0fc44",
              "IPY_MODEL_efd5322be1c342f9b6fba147155fcd9a",
              "IPY_MODEL_e7aa3dff7db0410db5690d23c87722ce"
            ],
            "layout": "IPY_MODEL_bbf62a2950cd44038865e769b49f8278"
          }
        },
        "fd1eae941f03439d8374a65d68e0fc44": {
          "model_module": "@jupyter-widgets/controls",
          "model_name": "HTMLModel",
          "model_module_version": "1.5.0",
          "state": {
            "_dom_classes": [],
            "_model_module": "@jupyter-widgets/controls",
            "_model_module_version": "1.5.0",
            "_model_name": "HTMLModel",
            "_view_count": null,
            "_view_module": "@jupyter-widgets/controls",
            "_view_module_version": "1.5.0",
            "_view_name": "HTMLView",
            "description": "",
            "description_tooltip": null,
            "layout": "IPY_MODEL_79a819a8bedb44499b9ee55ac5c57be6",
            "placeholder": "​",
            "style": "IPY_MODEL_5161db522de741e5a978d5ec87ac43d0",
            "value": "Downloading: 100%"
          }
        },
        "efd5322be1c342f9b6fba147155fcd9a": {
          "model_module": "@jupyter-widgets/controls",
          "model_name": "FloatProgressModel",
          "model_module_version": "1.5.0",
          "state": {
            "_dom_classes": [],
            "_model_module": "@jupyter-widgets/controls",
            "_model_module_version": "1.5.0",
            "_model_name": "FloatProgressModel",
            "_view_count": null,
            "_view_module": "@jupyter-widgets/controls",
            "_view_module_version": "1.5.0",
            "_view_name": "ProgressView",
            "bar_style": "success",
            "description": "",
            "description_tooltip": null,
            "layout": "IPY_MODEL_ae0f2408250a44738d80135366ba6d02",
            "max": 231508,
            "min": 0,
            "orientation": "horizontal",
            "style": "IPY_MODEL_80b018e56671423885614a0ab4c510d4",
            "value": 231508
          }
        },
        "e7aa3dff7db0410db5690d23c87722ce": {
          "model_module": "@jupyter-widgets/controls",
          "model_name": "HTMLModel",
          "model_module_version": "1.5.0",
          "state": {
            "_dom_classes": [],
            "_model_module": "@jupyter-widgets/controls",
            "_model_module_version": "1.5.0",
            "_model_name": "HTMLModel",
            "_view_count": null,
            "_view_module": "@jupyter-widgets/controls",
            "_view_module_version": "1.5.0",
            "_view_name": "HTMLView",
            "description": "",
            "description_tooltip": null,
            "layout": "IPY_MODEL_2f7b4d3aaaa6431580651befe794d9eb",
            "placeholder": "​",
            "style": "IPY_MODEL_2775ac15b6f444b4bbba81772bc01861",
            "value": " 226k/226k [00:00&lt;00:00, 1.50MB/s]"
          }
        },
        "bbf62a2950cd44038865e769b49f8278": {
          "model_module": "@jupyter-widgets/base",
          "model_name": "LayoutModel",
          "model_module_version": "1.2.0",
          "state": {
            "_model_module": "@jupyter-widgets/base",
            "_model_module_version": "1.2.0",
            "_model_name": "LayoutModel",
            "_view_count": null,
            "_view_module": "@jupyter-widgets/base",
            "_view_module_version": "1.2.0",
            "_view_name": "LayoutView",
            "align_content": null,
            "align_items": null,
            "align_self": null,
            "border": null,
            "bottom": null,
            "display": null,
            "flex": null,
            "flex_flow": null,
            "grid_area": null,
            "grid_auto_columns": null,
            "grid_auto_flow": null,
            "grid_auto_rows": null,
            "grid_column": null,
            "grid_gap": null,
            "grid_row": null,
            "grid_template_areas": null,
            "grid_template_columns": null,
            "grid_template_rows": null,
            "height": null,
            "justify_content": null,
            "justify_items": null,
            "left": null,
            "margin": null,
            "max_height": null,
            "max_width": null,
            "min_height": null,
            "min_width": null,
            "object_fit": null,
            "object_position": null,
            "order": null,
            "overflow": null,
            "overflow_x": null,
            "overflow_y": null,
            "padding": null,
            "right": null,
            "top": null,
            "visibility": null,
            "width": null
          }
        },
        "79a819a8bedb44499b9ee55ac5c57be6": {
          "model_module": "@jupyter-widgets/base",
          "model_name": "LayoutModel",
          "model_module_version": "1.2.0",
          "state": {
            "_model_module": "@jupyter-widgets/base",
            "_model_module_version": "1.2.0",
            "_model_name": "LayoutModel",
            "_view_count": null,
            "_view_module": "@jupyter-widgets/base",
            "_view_module_version": "1.2.0",
            "_view_name": "LayoutView",
            "align_content": null,
            "align_items": null,
            "align_self": null,
            "border": null,
            "bottom": null,
            "display": null,
            "flex": null,
            "flex_flow": null,
            "grid_area": null,
            "grid_auto_columns": null,
            "grid_auto_flow": null,
            "grid_auto_rows": null,
            "grid_column": null,
            "grid_gap": null,
            "grid_row": null,
            "grid_template_areas": null,
            "grid_template_columns": null,
            "grid_template_rows": null,
            "height": null,
            "justify_content": null,
            "justify_items": null,
            "left": null,
            "margin": null,
            "max_height": null,
            "max_width": null,
            "min_height": null,
            "min_width": null,
            "object_fit": null,
            "object_position": null,
            "order": null,
            "overflow": null,
            "overflow_x": null,
            "overflow_y": null,
            "padding": null,
            "right": null,
            "top": null,
            "visibility": null,
            "width": null
          }
        },
        "5161db522de741e5a978d5ec87ac43d0": {
          "model_module": "@jupyter-widgets/controls",
          "model_name": "DescriptionStyleModel",
          "model_module_version": "1.5.0",
          "state": {
            "_model_module": "@jupyter-widgets/controls",
            "_model_module_version": "1.5.0",
            "_model_name": "DescriptionStyleModel",
            "_view_count": null,
            "_view_module": "@jupyter-widgets/base",
            "_view_module_version": "1.2.0",
            "_view_name": "StyleView",
            "description_width": ""
          }
        },
        "ae0f2408250a44738d80135366ba6d02": {
          "model_module": "@jupyter-widgets/base",
          "model_name": "LayoutModel",
          "model_module_version": "1.2.0",
          "state": {
            "_model_module": "@jupyter-widgets/base",
            "_model_module_version": "1.2.0",
            "_model_name": "LayoutModel",
            "_view_count": null,
            "_view_module": "@jupyter-widgets/base",
            "_view_module_version": "1.2.0",
            "_view_name": "LayoutView",
            "align_content": null,
            "align_items": null,
            "align_self": null,
            "border": null,
            "bottom": null,
            "display": null,
            "flex": null,
            "flex_flow": null,
            "grid_area": null,
            "grid_auto_columns": null,
            "grid_auto_flow": null,
            "grid_auto_rows": null,
            "grid_column": null,
            "grid_gap": null,
            "grid_row": null,
            "grid_template_areas": null,
            "grid_template_columns": null,
            "grid_template_rows": null,
            "height": null,
            "justify_content": null,
            "justify_items": null,
            "left": null,
            "margin": null,
            "max_height": null,
            "max_width": null,
            "min_height": null,
            "min_width": null,
            "object_fit": null,
            "object_position": null,
            "order": null,
            "overflow": null,
            "overflow_x": null,
            "overflow_y": null,
            "padding": null,
            "right": null,
            "top": null,
            "visibility": null,
            "width": null
          }
        },
        "80b018e56671423885614a0ab4c510d4": {
          "model_module": "@jupyter-widgets/controls",
          "model_name": "ProgressStyleModel",
          "model_module_version": "1.5.0",
          "state": {
            "_model_module": "@jupyter-widgets/controls",
            "_model_module_version": "1.5.0",
            "_model_name": "ProgressStyleModel",
            "_view_count": null,
            "_view_module": "@jupyter-widgets/base",
            "_view_module_version": "1.2.0",
            "_view_name": "StyleView",
            "bar_color": null,
            "description_width": ""
          }
        },
        "2f7b4d3aaaa6431580651befe794d9eb": {
          "model_module": "@jupyter-widgets/base",
          "model_name": "LayoutModel",
          "model_module_version": "1.2.0",
          "state": {
            "_model_module": "@jupyter-widgets/base",
            "_model_module_version": "1.2.0",
            "_model_name": "LayoutModel",
            "_view_count": null,
            "_view_module": "@jupyter-widgets/base",
            "_view_module_version": "1.2.0",
            "_view_name": "LayoutView",
            "align_content": null,
            "align_items": null,
            "align_self": null,
            "border": null,
            "bottom": null,
            "display": null,
            "flex": null,
            "flex_flow": null,
            "grid_area": null,
            "grid_auto_columns": null,
            "grid_auto_flow": null,
            "grid_auto_rows": null,
            "grid_column": null,
            "grid_gap": null,
            "grid_row": null,
            "grid_template_areas": null,
            "grid_template_columns": null,
            "grid_template_rows": null,
            "height": null,
            "justify_content": null,
            "justify_items": null,
            "left": null,
            "margin": null,
            "max_height": null,
            "max_width": null,
            "min_height": null,
            "min_width": null,
            "object_fit": null,
            "object_position": null,
            "order": null,
            "overflow": null,
            "overflow_x": null,
            "overflow_y": null,
            "padding": null,
            "right": null,
            "top": null,
            "visibility": null,
            "width": null
          }
        },
        "2775ac15b6f444b4bbba81772bc01861": {
          "model_module": "@jupyter-widgets/controls",
          "model_name": "DescriptionStyleModel",
          "model_module_version": "1.5.0",
          "state": {
            "_model_module": "@jupyter-widgets/controls",
            "_model_module_version": "1.5.0",
            "_model_name": "DescriptionStyleModel",
            "_view_count": null,
            "_view_module": "@jupyter-widgets/base",
            "_view_module_version": "1.2.0",
            "_view_name": "StyleView",
            "description_width": ""
          }
        },
        "453c15f7d16b4a8588db85c668b3b1c0": {
          "model_module": "@jupyter-widgets/controls",
          "model_name": "HBoxModel",
          "model_module_version": "1.5.0",
          "state": {
            "_dom_classes": [],
            "_model_module": "@jupyter-widgets/controls",
            "_model_module_version": "1.5.0",
            "_model_name": "HBoxModel",
            "_view_count": null,
            "_view_module": "@jupyter-widgets/controls",
            "_view_module_version": "1.5.0",
            "_view_name": "HBoxView",
            "box_style": "",
            "children": [
              "IPY_MODEL_78dcb34b0f7442b482b00efb68b391fc",
              "IPY_MODEL_58d0353f07354e00a33f8535b0071296",
              "IPY_MODEL_6478994fe2d84c9895f104f65d21a831"
            ],
            "layout": "IPY_MODEL_833a5c36ebd442359ba33a8f7225a065"
          }
        },
        "78dcb34b0f7442b482b00efb68b391fc": {
          "model_module": "@jupyter-widgets/controls",
          "model_name": "HTMLModel",
          "model_module_version": "1.5.0",
          "state": {
            "_dom_classes": [],
            "_model_module": "@jupyter-widgets/controls",
            "_model_module_version": "1.5.0",
            "_model_name": "HTMLModel",
            "_view_count": null,
            "_view_module": "@jupyter-widgets/controls",
            "_view_module_version": "1.5.0",
            "_view_name": "HTMLView",
            "description": "",
            "description_tooltip": null,
            "layout": "IPY_MODEL_8d07860371e6479b8b4188f74bf9cbf4",
            "placeholder": "​",
            "style": "IPY_MODEL_cf59807ada964befb576d142123611fe",
            "value": "Downloading: 100%"
          }
        },
        "58d0353f07354e00a33f8535b0071296": {
          "model_module": "@jupyter-widgets/controls",
          "model_name": "FloatProgressModel",
          "model_module_version": "1.5.0",
          "state": {
            "_dom_classes": [],
            "_model_module": "@jupyter-widgets/controls",
            "_model_module_version": "1.5.0",
            "_model_name": "FloatProgressModel",
            "_view_count": null,
            "_view_module": "@jupyter-widgets/controls",
            "_view_module_version": "1.5.0",
            "_view_name": "ProgressView",
            "bar_style": "success",
            "description": "",
            "description_tooltip": null,
            "layout": "IPY_MODEL_ad9124e1d86248e6bee578c81a393136",
            "max": 466062,
            "min": 0,
            "orientation": "horizontal",
            "style": "IPY_MODEL_1f1b78e0fe3a41658b88d3e2e39ef415",
            "value": 466062
          }
        },
        "6478994fe2d84c9895f104f65d21a831": {
          "model_module": "@jupyter-widgets/controls",
          "model_name": "HTMLModel",
          "model_module_version": "1.5.0",
          "state": {
            "_dom_classes": [],
            "_model_module": "@jupyter-widgets/controls",
            "_model_module_version": "1.5.0",
            "_model_name": "HTMLModel",
            "_view_count": null,
            "_view_module": "@jupyter-widgets/controls",
            "_view_module_version": "1.5.0",
            "_view_name": "HTMLView",
            "description": "",
            "description_tooltip": null,
            "layout": "IPY_MODEL_a503c47166d4422e9c71c7e009711524",
            "placeholder": "​",
            "style": "IPY_MODEL_ac3d2ad1d21049518259b6400d97dbb2",
            "value": " 455k/455k [00:00&lt;00:00, 1.51MB/s]"
          }
        },
        "833a5c36ebd442359ba33a8f7225a065": {
          "model_module": "@jupyter-widgets/base",
          "model_name": "LayoutModel",
          "model_module_version": "1.2.0",
          "state": {
            "_model_module": "@jupyter-widgets/base",
            "_model_module_version": "1.2.0",
            "_model_name": "LayoutModel",
            "_view_count": null,
            "_view_module": "@jupyter-widgets/base",
            "_view_module_version": "1.2.0",
            "_view_name": "LayoutView",
            "align_content": null,
            "align_items": null,
            "align_self": null,
            "border": null,
            "bottom": null,
            "display": null,
            "flex": null,
            "flex_flow": null,
            "grid_area": null,
            "grid_auto_columns": null,
            "grid_auto_flow": null,
            "grid_auto_rows": null,
            "grid_column": null,
            "grid_gap": null,
            "grid_row": null,
            "grid_template_areas": null,
            "grid_template_columns": null,
            "grid_template_rows": null,
            "height": null,
            "justify_content": null,
            "justify_items": null,
            "left": null,
            "margin": null,
            "max_height": null,
            "max_width": null,
            "min_height": null,
            "min_width": null,
            "object_fit": null,
            "object_position": null,
            "order": null,
            "overflow": null,
            "overflow_x": null,
            "overflow_y": null,
            "padding": null,
            "right": null,
            "top": null,
            "visibility": null,
            "width": null
          }
        },
        "8d07860371e6479b8b4188f74bf9cbf4": {
          "model_module": "@jupyter-widgets/base",
          "model_name": "LayoutModel",
          "model_module_version": "1.2.0",
          "state": {
            "_model_module": "@jupyter-widgets/base",
            "_model_module_version": "1.2.0",
            "_model_name": "LayoutModel",
            "_view_count": null,
            "_view_module": "@jupyter-widgets/base",
            "_view_module_version": "1.2.0",
            "_view_name": "LayoutView",
            "align_content": null,
            "align_items": null,
            "align_self": null,
            "border": null,
            "bottom": null,
            "display": null,
            "flex": null,
            "flex_flow": null,
            "grid_area": null,
            "grid_auto_columns": null,
            "grid_auto_flow": null,
            "grid_auto_rows": null,
            "grid_column": null,
            "grid_gap": null,
            "grid_row": null,
            "grid_template_areas": null,
            "grid_template_columns": null,
            "grid_template_rows": null,
            "height": null,
            "justify_content": null,
            "justify_items": null,
            "left": null,
            "margin": null,
            "max_height": null,
            "max_width": null,
            "min_height": null,
            "min_width": null,
            "object_fit": null,
            "object_position": null,
            "order": null,
            "overflow": null,
            "overflow_x": null,
            "overflow_y": null,
            "padding": null,
            "right": null,
            "top": null,
            "visibility": null,
            "width": null
          }
        },
        "cf59807ada964befb576d142123611fe": {
          "model_module": "@jupyter-widgets/controls",
          "model_name": "DescriptionStyleModel",
          "model_module_version": "1.5.0",
          "state": {
            "_model_module": "@jupyter-widgets/controls",
            "_model_module_version": "1.5.0",
            "_model_name": "DescriptionStyleModel",
            "_view_count": null,
            "_view_module": "@jupyter-widgets/base",
            "_view_module_version": "1.2.0",
            "_view_name": "StyleView",
            "description_width": ""
          }
        },
        "ad9124e1d86248e6bee578c81a393136": {
          "model_module": "@jupyter-widgets/base",
          "model_name": "LayoutModel",
          "model_module_version": "1.2.0",
          "state": {
            "_model_module": "@jupyter-widgets/base",
            "_model_module_version": "1.2.0",
            "_model_name": "LayoutModel",
            "_view_count": null,
            "_view_module": "@jupyter-widgets/base",
            "_view_module_version": "1.2.0",
            "_view_name": "LayoutView",
            "align_content": null,
            "align_items": null,
            "align_self": null,
            "border": null,
            "bottom": null,
            "display": null,
            "flex": null,
            "flex_flow": null,
            "grid_area": null,
            "grid_auto_columns": null,
            "grid_auto_flow": null,
            "grid_auto_rows": null,
            "grid_column": null,
            "grid_gap": null,
            "grid_row": null,
            "grid_template_areas": null,
            "grid_template_columns": null,
            "grid_template_rows": null,
            "height": null,
            "justify_content": null,
            "justify_items": null,
            "left": null,
            "margin": null,
            "max_height": null,
            "max_width": null,
            "min_height": null,
            "min_width": null,
            "object_fit": null,
            "object_position": null,
            "order": null,
            "overflow": null,
            "overflow_x": null,
            "overflow_y": null,
            "padding": null,
            "right": null,
            "top": null,
            "visibility": null,
            "width": null
          }
        },
        "1f1b78e0fe3a41658b88d3e2e39ef415": {
          "model_module": "@jupyter-widgets/controls",
          "model_name": "ProgressStyleModel",
          "model_module_version": "1.5.0",
          "state": {
            "_model_module": "@jupyter-widgets/controls",
            "_model_module_version": "1.5.0",
            "_model_name": "ProgressStyleModel",
            "_view_count": null,
            "_view_module": "@jupyter-widgets/base",
            "_view_module_version": "1.2.0",
            "_view_name": "StyleView",
            "bar_color": null,
            "description_width": ""
          }
        },
        "a503c47166d4422e9c71c7e009711524": {
          "model_module": "@jupyter-widgets/base",
          "model_name": "LayoutModel",
          "model_module_version": "1.2.0",
          "state": {
            "_model_module": "@jupyter-widgets/base",
            "_model_module_version": "1.2.0",
            "_model_name": "LayoutModel",
            "_view_count": null,
            "_view_module": "@jupyter-widgets/base",
            "_view_module_version": "1.2.0",
            "_view_name": "LayoutView",
            "align_content": null,
            "align_items": null,
            "align_self": null,
            "border": null,
            "bottom": null,
            "display": null,
            "flex": null,
            "flex_flow": null,
            "grid_area": null,
            "grid_auto_columns": null,
            "grid_auto_flow": null,
            "grid_auto_rows": null,
            "grid_column": null,
            "grid_gap": null,
            "grid_row": null,
            "grid_template_areas": null,
            "grid_template_columns": null,
            "grid_template_rows": null,
            "height": null,
            "justify_content": null,
            "justify_items": null,
            "left": null,
            "margin": null,
            "max_height": null,
            "max_width": null,
            "min_height": null,
            "min_width": null,
            "object_fit": null,
            "object_position": null,
            "order": null,
            "overflow": null,
            "overflow_x": null,
            "overflow_y": null,
            "padding": null,
            "right": null,
            "top": null,
            "visibility": null,
            "width": null
          }
        },
        "ac3d2ad1d21049518259b6400d97dbb2": {
          "model_module": "@jupyter-widgets/controls",
          "model_name": "DescriptionStyleModel",
          "model_module_version": "1.5.0",
          "state": {
            "_model_module": "@jupyter-widgets/controls",
            "_model_module_version": "1.5.0",
            "_model_name": "DescriptionStyleModel",
            "_view_count": null,
            "_view_module": "@jupyter-widgets/base",
            "_view_module_version": "1.2.0",
            "_view_name": "StyleView",
            "description_width": ""
          }
        },
        "3e07a5c28a2c435e8d0ca680704b2174": {
          "model_module": "@jupyter-widgets/controls",
          "model_name": "HBoxModel",
          "model_module_version": "1.5.0",
          "state": {
            "_dom_classes": [],
            "_model_module": "@jupyter-widgets/controls",
            "_model_module_version": "1.5.0",
            "_model_name": "HBoxModel",
            "_view_count": null,
            "_view_module": "@jupyter-widgets/controls",
            "_view_module_version": "1.5.0",
            "_view_name": "HBoxView",
            "box_style": "",
            "children": [
              "IPY_MODEL_1c057031173d401aad32ce6ce6536b94",
              "IPY_MODEL_b7a3005475af41b9a7aedc4fbb19e551",
              "IPY_MODEL_cae1fe987ccf41a8841816fae6cc8180"
            ],
            "layout": "IPY_MODEL_013b1938dcb14579ba5e842b7e3c6d9c"
          }
        },
        "1c057031173d401aad32ce6ce6536b94": {
          "model_module": "@jupyter-widgets/controls",
          "model_name": "HTMLModel",
          "model_module_version": "1.5.0",
          "state": {
            "_dom_classes": [],
            "_model_module": "@jupyter-widgets/controls",
            "_model_module_version": "1.5.0",
            "_model_name": "HTMLModel",
            "_view_count": null,
            "_view_module": "@jupyter-widgets/controls",
            "_view_module_version": "1.5.0",
            "_view_name": "HTMLView",
            "description": "",
            "description_tooltip": null,
            "layout": "IPY_MODEL_ddebc078c2034b9f87c644ea4977b4a5",
            "placeholder": "​",
            "style": "IPY_MODEL_241f2cd4eb154dcfafb04a9925c54a24",
            "value": "Downloading: 100%"
          }
        },
        "b7a3005475af41b9a7aedc4fbb19e551": {
          "model_module": "@jupyter-widgets/controls",
          "model_name": "FloatProgressModel",
          "model_module_version": "1.5.0",
          "state": {
            "_dom_classes": [],
            "_model_module": "@jupyter-widgets/controls",
            "_model_module_version": "1.5.0",
            "_model_name": "FloatProgressModel",
            "_view_count": null,
            "_view_module": "@jupyter-widgets/controls",
            "_view_module_version": "1.5.0",
            "_view_name": "ProgressView",
            "bar_style": "success",
            "description": "",
            "description_tooltip": null,
            "layout": "IPY_MODEL_7c2ed81a28c1451aa980a574c28b8d91",
            "max": 483,
            "min": 0,
            "orientation": "horizontal",
            "style": "IPY_MODEL_439c9c00f7cb4adca76e51db23c72951",
            "value": 483
          }
        },
        "cae1fe987ccf41a8841816fae6cc8180": {
          "model_module": "@jupyter-widgets/controls",
          "model_name": "HTMLModel",
          "model_module_version": "1.5.0",
          "state": {
            "_dom_classes": [],
            "_model_module": "@jupyter-widgets/controls",
            "_model_module_version": "1.5.0",
            "_model_name": "HTMLModel",
            "_view_count": null,
            "_view_module": "@jupyter-widgets/controls",
            "_view_module_version": "1.5.0",
            "_view_name": "HTMLView",
            "description": "",
            "description_tooltip": null,
            "layout": "IPY_MODEL_8ee3bcadaee34dde896881b26830caeb",
            "placeholder": "​",
            "style": "IPY_MODEL_0e225b4cb0e4437f92707957b6b6a430",
            "value": " 483/483 [00:00&lt;00:00, 13.6kB/s]"
          }
        },
        "013b1938dcb14579ba5e842b7e3c6d9c": {
          "model_module": "@jupyter-widgets/base",
          "model_name": "LayoutModel",
          "model_module_version": "1.2.0",
          "state": {
            "_model_module": "@jupyter-widgets/base",
            "_model_module_version": "1.2.0",
            "_model_name": "LayoutModel",
            "_view_count": null,
            "_view_module": "@jupyter-widgets/base",
            "_view_module_version": "1.2.0",
            "_view_name": "LayoutView",
            "align_content": null,
            "align_items": null,
            "align_self": null,
            "border": null,
            "bottom": null,
            "display": null,
            "flex": null,
            "flex_flow": null,
            "grid_area": null,
            "grid_auto_columns": null,
            "grid_auto_flow": null,
            "grid_auto_rows": null,
            "grid_column": null,
            "grid_gap": null,
            "grid_row": null,
            "grid_template_areas": null,
            "grid_template_columns": null,
            "grid_template_rows": null,
            "height": null,
            "justify_content": null,
            "justify_items": null,
            "left": null,
            "margin": null,
            "max_height": null,
            "max_width": null,
            "min_height": null,
            "min_width": null,
            "object_fit": null,
            "object_position": null,
            "order": null,
            "overflow": null,
            "overflow_x": null,
            "overflow_y": null,
            "padding": null,
            "right": null,
            "top": null,
            "visibility": null,
            "width": null
          }
        },
        "ddebc078c2034b9f87c644ea4977b4a5": {
          "model_module": "@jupyter-widgets/base",
          "model_name": "LayoutModel",
          "model_module_version": "1.2.0",
          "state": {
            "_model_module": "@jupyter-widgets/base",
            "_model_module_version": "1.2.0",
            "_model_name": "LayoutModel",
            "_view_count": null,
            "_view_module": "@jupyter-widgets/base",
            "_view_module_version": "1.2.0",
            "_view_name": "LayoutView",
            "align_content": null,
            "align_items": null,
            "align_self": null,
            "border": null,
            "bottom": null,
            "display": null,
            "flex": null,
            "flex_flow": null,
            "grid_area": null,
            "grid_auto_columns": null,
            "grid_auto_flow": null,
            "grid_auto_rows": null,
            "grid_column": null,
            "grid_gap": null,
            "grid_row": null,
            "grid_template_areas": null,
            "grid_template_columns": null,
            "grid_template_rows": null,
            "height": null,
            "justify_content": null,
            "justify_items": null,
            "left": null,
            "margin": null,
            "max_height": null,
            "max_width": null,
            "min_height": null,
            "min_width": null,
            "object_fit": null,
            "object_position": null,
            "order": null,
            "overflow": null,
            "overflow_x": null,
            "overflow_y": null,
            "padding": null,
            "right": null,
            "top": null,
            "visibility": null,
            "width": null
          }
        },
        "241f2cd4eb154dcfafb04a9925c54a24": {
          "model_module": "@jupyter-widgets/controls",
          "model_name": "DescriptionStyleModel",
          "model_module_version": "1.5.0",
          "state": {
            "_model_module": "@jupyter-widgets/controls",
            "_model_module_version": "1.5.0",
            "_model_name": "DescriptionStyleModel",
            "_view_count": null,
            "_view_module": "@jupyter-widgets/base",
            "_view_module_version": "1.2.0",
            "_view_name": "StyleView",
            "description_width": ""
          }
        },
        "7c2ed81a28c1451aa980a574c28b8d91": {
          "model_module": "@jupyter-widgets/base",
          "model_name": "LayoutModel",
          "model_module_version": "1.2.0",
          "state": {
            "_model_module": "@jupyter-widgets/base",
            "_model_module_version": "1.2.0",
            "_model_name": "LayoutModel",
            "_view_count": null,
            "_view_module": "@jupyter-widgets/base",
            "_view_module_version": "1.2.0",
            "_view_name": "LayoutView",
            "align_content": null,
            "align_items": null,
            "align_self": null,
            "border": null,
            "bottom": null,
            "display": null,
            "flex": null,
            "flex_flow": null,
            "grid_area": null,
            "grid_auto_columns": null,
            "grid_auto_flow": null,
            "grid_auto_rows": null,
            "grid_column": null,
            "grid_gap": null,
            "grid_row": null,
            "grid_template_areas": null,
            "grid_template_columns": null,
            "grid_template_rows": null,
            "height": null,
            "justify_content": null,
            "justify_items": null,
            "left": null,
            "margin": null,
            "max_height": null,
            "max_width": null,
            "min_height": null,
            "min_width": null,
            "object_fit": null,
            "object_position": null,
            "order": null,
            "overflow": null,
            "overflow_x": null,
            "overflow_y": null,
            "padding": null,
            "right": null,
            "top": null,
            "visibility": null,
            "width": null
          }
        },
        "439c9c00f7cb4adca76e51db23c72951": {
          "model_module": "@jupyter-widgets/controls",
          "model_name": "ProgressStyleModel",
          "model_module_version": "1.5.0",
          "state": {
            "_model_module": "@jupyter-widgets/controls",
            "_model_module_version": "1.5.0",
            "_model_name": "ProgressStyleModel",
            "_view_count": null,
            "_view_module": "@jupyter-widgets/base",
            "_view_module_version": "1.2.0",
            "_view_name": "StyleView",
            "bar_color": null,
            "description_width": ""
          }
        },
        "8ee3bcadaee34dde896881b26830caeb": {
          "model_module": "@jupyter-widgets/base",
          "model_name": "LayoutModel",
          "model_module_version": "1.2.0",
          "state": {
            "_model_module": "@jupyter-widgets/base",
            "_model_module_version": "1.2.0",
            "_model_name": "LayoutModel",
            "_view_count": null,
            "_view_module": "@jupyter-widgets/base",
            "_view_module_version": "1.2.0",
            "_view_name": "LayoutView",
            "align_content": null,
            "align_items": null,
            "align_self": null,
            "border": null,
            "bottom": null,
            "display": null,
            "flex": null,
            "flex_flow": null,
            "grid_area": null,
            "grid_auto_columns": null,
            "grid_auto_flow": null,
            "grid_auto_rows": null,
            "grid_column": null,
            "grid_gap": null,
            "grid_row": null,
            "grid_template_areas": null,
            "grid_template_columns": null,
            "grid_template_rows": null,
            "height": null,
            "justify_content": null,
            "justify_items": null,
            "left": null,
            "margin": null,
            "max_height": null,
            "max_width": null,
            "min_height": null,
            "min_width": null,
            "object_fit": null,
            "object_position": null,
            "order": null,
            "overflow": null,
            "overflow_x": null,
            "overflow_y": null,
            "padding": null,
            "right": null,
            "top": null,
            "visibility": null,
            "width": null
          }
        },
        "0e225b4cb0e4437f92707957b6b6a430": {
          "model_module": "@jupyter-widgets/controls",
          "model_name": "DescriptionStyleModel",
          "model_module_version": "1.5.0",
          "state": {
            "_model_module": "@jupyter-widgets/controls",
            "_model_module_version": "1.5.0",
            "_model_name": "DescriptionStyleModel",
            "_view_count": null,
            "_view_module": "@jupyter-widgets/base",
            "_view_module_version": "1.2.0",
            "_view_name": "StyleView",
            "description_width": ""
          }
        },
        "ec81bd9842fc4f2a860412e250a23dfe": {
          "model_module": "@jupyter-widgets/controls",
          "model_name": "HBoxModel",
          "model_module_version": "1.5.0",
          "state": {
            "_dom_classes": [],
            "_model_module": "@jupyter-widgets/controls",
            "_model_module_version": "1.5.0",
            "_model_name": "HBoxModel",
            "_view_count": null,
            "_view_module": "@jupyter-widgets/controls",
            "_view_module_version": "1.5.0",
            "_view_name": "HBoxView",
            "box_style": "",
            "children": [
              "IPY_MODEL_037d63514a324ee196a72485b447ca2b",
              "IPY_MODEL_1a13c3691af6440483f7fbb45d37e758",
              "IPY_MODEL_f5e875f035ec44afa260b55b178d2abf"
            ],
            "layout": "IPY_MODEL_e0c7ab53e8bc40de8cadf47e738df08e"
          }
        },
        "037d63514a324ee196a72485b447ca2b": {
          "model_module": "@jupyter-widgets/controls",
          "model_name": "HTMLModel",
          "model_module_version": "1.5.0",
          "state": {
            "_dom_classes": [],
            "_model_module": "@jupyter-widgets/controls",
            "_model_module_version": "1.5.0",
            "_model_name": "HTMLModel",
            "_view_count": null,
            "_view_module": "@jupyter-widgets/controls",
            "_view_module_version": "1.5.0",
            "_view_name": "HTMLView",
            "description": "",
            "description_tooltip": null,
            "layout": "IPY_MODEL_cb276795dd3a4614af8ab036c23d5b86",
            "placeholder": "​",
            "style": "IPY_MODEL_f40c7c61de454a34950f7f3a5a46a5bb",
            "value": "Downloading: 100%"
          }
        },
        "1a13c3691af6440483f7fbb45d37e758": {
          "model_module": "@jupyter-widgets/controls",
          "model_name": "FloatProgressModel",
          "model_module_version": "1.5.0",
          "state": {
            "_dom_classes": [],
            "_model_module": "@jupyter-widgets/controls",
            "_model_module_version": "1.5.0",
            "_model_name": "FloatProgressModel",
            "_view_count": null,
            "_view_module": "@jupyter-widgets/controls",
            "_view_module_version": "1.5.0",
            "_view_name": "ProgressView",
            "bar_style": "success",
            "description": "",
            "description_tooltip": null,
            "layout": "IPY_MODEL_5ff3034c0aef49f4b42b9789c29db129",
            "max": 267967963,
            "min": 0,
            "orientation": "horizontal",
            "style": "IPY_MODEL_ad00653627404fe695b951428cb6e3e4",
            "value": 267967963
          }
        },
        "f5e875f035ec44afa260b55b178d2abf": {
          "model_module": "@jupyter-widgets/controls",
          "model_name": "HTMLModel",
          "model_module_version": "1.5.0",
          "state": {
            "_dom_classes": [],
            "_model_module": "@jupyter-widgets/controls",
            "_model_module_version": "1.5.0",
            "_model_name": "HTMLModel",
            "_view_count": null,
            "_view_module": "@jupyter-widgets/controls",
            "_view_module_version": "1.5.0",
            "_view_name": "HTMLView",
            "description": "",
            "description_tooltip": null,
            "layout": "IPY_MODEL_a6d0c2db2ecf4c24bed60f36dba6b6e6",
            "placeholder": "​",
            "style": "IPY_MODEL_23c6e8e7be0d4b8a8e9b09679e6f2689",
            "value": " 256M/256M [00:04&lt;00:00, 56.5MB/s]"
          }
        },
        "e0c7ab53e8bc40de8cadf47e738df08e": {
          "model_module": "@jupyter-widgets/base",
          "model_name": "LayoutModel",
          "model_module_version": "1.2.0",
          "state": {
            "_model_module": "@jupyter-widgets/base",
            "_model_module_version": "1.2.0",
            "_model_name": "LayoutModel",
            "_view_count": null,
            "_view_module": "@jupyter-widgets/base",
            "_view_module_version": "1.2.0",
            "_view_name": "LayoutView",
            "align_content": null,
            "align_items": null,
            "align_self": null,
            "border": null,
            "bottom": null,
            "display": null,
            "flex": null,
            "flex_flow": null,
            "grid_area": null,
            "grid_auto_columns": null,
            "grid_auto_flow": null,
            "grid_auto_rows": null,
            "grid_column": null,
            "grid_gap": null,
            "grid_row": null,
            "grid_template_areas": null,
            "grid_template_columns": null,
            "grid_template_rows": null,
            "height": null,
            "justify_content": null,
            "justify_items": null,
            "left": null,
            "margin": null,
            "max_height": null,
            "max_width": null,
            "min_height": null,
            "min_width": null,
            "object_fit": null,
            "object_position": null,
            "order": null,
            "overflow": null,
            "overflow_x": null,
            "overflow_y": null,
            "padding": null,
            "right": null,
            "top": null,
            "visibility": null,
            "width": null
          }
        },
        "cb276795dd3a4614af8ab036c23d5b86": {
          "model_module": "@jupyter-widgets/base",
          "model_name": "LayoutModel",
          "model_module_version": "1.2.0",
          "state": {
            "_model_module": "@jupyter-widgets/base",
            "_model_module_version": "1.2.0",
            "_model_name": "LayoutModel",
            "_view_count": null,
            "_view_module": "@jupyter-widgets/base",
            "_view_module_version": "1.2.0",
            "_view_name": "LayoutView",
            "align_content": null,
            "align_items": null,
            "align_self": null,
            "border": null,
            "bottom": null,
            "display": null,
            "flex": null,
            "flex_flow": null,
            "grid_area": null,
            "grid_auto_columns": null,
            "grid_auto_flow": null,
            "grid_auto_rows": null,
            "grid_column": null,
            "grid_gap": null,
            "grid_row": null,
            "grid_template_areas": null,
            "grid_template_columns": null,
            "grid_template_rows": null,
            "height": null,
            "justify_content": null,
            "justify_items": null,
            "left": null,
            "margin": null,
            "max_height": null,
            "max_width": null,
            "min_height": null,
            "min_width": null,
            "object_fit": null,
            "object_position": null,
            "order": null,
            "overflow": null,
            "overflow_x": null,
            "overflow_y": null,
            "padding": null,
            "right": null,
            "top": null,
            "visibility": null,
            "width": null
          }
        },
        "f40c7c61de454a34950f7f3a5a46a5bb": {
          "model_module": "@jupyter-widgets/controls",
          "model_name": "DescriptionStyleModel",
          "model_module_version": "1.5.0",
          "state": {
            "_model_module": "@jupyter-widgets/controls",
            "_model_module_version": "1.5.0",
            "_model_name": "DescriptionStyleModel",
            "_view_count": null,
            "_view_module": "@jupyter-widgets/base",
            "_view_module_version": "1.2.0",
            "_view_name": "StyleView",
            "description_width": ""
          }
        },
        "5ff3034c0aef49f4b42b9789c29db129": {
          "model_module": "@jupyter-widgets/base",
          "model_name": "LayoutModel",
          "model_module_version": "1.2.0",
          "state": {
            "_model_module": "@jupyter-widgets/base",
            "_model_module_version": "1.2.0",
            "_model_name": "LayoutModel",
            "_view_count": null,
            "_view_module": "@jupyter-widgets/base",
            "_view_module_version": "1.2.0",
            "_view_name": "LayoutView",
            "align_content": null,
            "align_items": null,
            "align_self": null,
            "border": null,
            "bottom": null,
            "display": null,
            "flex": null,
            "flex_flow": null,
            "grid_area": null,
            "grid_auto_columns": null,
            "grid_auto_flow": null,
            "grid_auto_rows": null,
            "grid_column": null,
            "grid_gap": null,
            "grid_row": null,
            "grid_template_areas": null,
            "grid_template_columns": null,
            "grid_template_rows": null,
            "height": null,
            "justify_content": null,
            "justify_items": null,
            "left": null,
            "margin": null,
            "max_height": null,
            "max_width": null,
            "min_height": null,
            "min_width": null,
            "object_fit": null,
            "object_position": null,
            "order": null,
            "overflow": null,
            "overflow_x": null,
            "overflow_y": null,
            "padding": null,
            "right": null,
            "top": null,
            "visibility": null,
            "width": null
          }
        },
        "ad00653627404fe695b951428cb6e3e4": {
          "model_module": "@jupyter-widgets/controls",
          "model_name": "ProgressStyleModel",
          "model_module_version": "1.5.0",
          "state": {
            "_model_module": "@jupyter-widgets/controls",
            "_model_module_version": "1.5.0",
            "_model_name": "ProgressStyleModel",
            "_view_count": null,
            "_view_module": "@jupyter-widgets/base",
            "_view_module_version": "1.2.0",
            "_view_name": "StyleView",
            "bar_color": null,
            "description_width": ""
          }
        },
        "a6d0c2db2ecf4c24bed60f36dba6b6e6": {
          "model_module": "@jupyter-widgets/base",
          "model_name": "LayoutModel",
          "model_module_version": "1.2.0",
          "state": {
            "_model_module": "@jupyter-widgets/base",
            "_model_module_version": "1.2.0",
            "_model_name": "LayoutModel",
            "_view_count": null,
            "_view_module": "@jupyter-widgets/base",
            "_view_module_version": "1.2.0",
            "_view_name": "LayoutView",
            "align_content": null,
            "align_items": null,
            "align_self": null,
            "border": null,
            "bottom": null,
            "display": null,
            "flex": null,
            "flex_flow": null,
            "grid_area": null,
            "grid_auto_columns": null,
            "grid_auto_flow": null,
            "grid_auto_rows": null,
            "grid_column": null,
            "grid_gap": null,
            "grid_row": null,
            "grid_template_areas": null,
            "grid_template_columns": null,
            "grid_template_rows": null,
            "height": null,
            "justify_content": null,
            "justify_items": null,
            "left": null,
            "margin": null,
            "max_height": null,
            "max_width": null,
            "min_height": null,
            "min_width": null,
            "object_fit": null,
            "object_position": null,
            "order": null,
            "overflow": null,
            "overflow_x": null,
            "overflow_y": null,
            "padding": null,
            "right": null,
            "top": null,
            "visibility": null,
            "width": null
          }
        },
        "23c6e8e7be0d4b8a8e9b09679e6f2689": {
          "model_module": "@jupyter-widgets/controls",
          "model_name": "DescriptionStyleModel",
          "model_module_version": "1.5.0",
          "state": {
            "_model_module": "@jupyter-widgets/controls",
            "_model_module_version": "1.5.0",
            "_model_name": "DescriptionStyleModel",
            "_view_count": null,
            "_view_module": "@jupyter-widgets/base",
            "_view_module_version": "1.2.0",
            "_view_name": "StyleView",
            "description_width": ""
          }
        }
      }
    },
    "accelerator": "GPU",
    "gpuClass": "standard"
  },
  "cells": [
    {
      "cell_type": "markdown",
      "metadata": {
        "id": "fzuf3cVHi6TS"
      },
      "source": [
        "# Text Mining Project Work (Group 3)\n",
        "\n",
        "**Text Classification and Sentiment Analysis**\n",
        "\n",
        "_Prof. Gianluca Moro, Dott. Ing. Nicola Piscaglia – DISI, University of Bologna_\n",
        "\n",
        "**Bologna Business School** - Alma Mater Studiorum Università di Bologna"
      ]
    },
    {
      "cell_type": "markdown",
      "metadata": {
        "id": "WOBjMeN9i6TV"
      },
      "source": [
        "## Instructions\n",
        "- The provided exercises must be executed by the students of Group 3\n",
        "- At the end, the file must contain all the required results (as code cell outputs) along with all the commands necessary to reproduce them; \n",
        "- The function of every command or group of related commands\n",
        "must be documented clearly and concisely.\n",
        "- The submission deadline is the 1st July 2022.\n",
        "- When finished, one team member will send the notebook file (having .ipynb extension) via mail (using your BBS email account) to the teacher (nicola.piscaglia@bbs.unibo.it) indicating “[BBS Teamwork] Your last names” as subject, also keeping an own copy of the file for safety.\n",
        "- You are allowed to consult the teaching material and to search the Web for quick reference. \n",
        "- If still in doubt about anything, ask the teacher\n",
        "- It is severely NOT allowed to communicate with other teams. Ask the teacher for any clarification about the exercises.\n",
        "- Each correctly developed point counts 2/30."
      ]
    },
    {
      "cell_type": "markdown",
      "metadata": {
        "id": "9APLha11i6TX"
      },
      "source": [
        "## Setup\n",
        "\n",
        "The following cell contains some necessary imports"
      ]
    },
    {
      "cell_type": "code",
      "source": [
        "!pip install transformers"
      ],
      "metadata": {
        "id": "eX_TBgeW41ha",
        "outputId": "beed8289-b310-46dd-e248-b063875dde9c",
        "colab": {
          "base_uri": "https://localhost:8080/"
        }
      },
      "execution_count": 1,
      "outputs": [
        {
          "output_type": "stream",
          "name": "stdout",
          "text": [
            "Looking in indexes: https://pypi.org/simple, https://us-python.pkg.dev/colab-wheels/public/simple/\n",
            "Collecting transformers\n",
            "  Downloading transformers-4.20.1-py3-none-any.whl (4.4 MB)\n",
            "\u001b[K     |████████████████████████████████| 4.4 MB 5.3 MB/s \n",
            "\u001b[?25hRequirement already satisfied: filelock in /usr/local/lib/python3.7/dist-packages (from transformers) (3.7.1)\n",
            "Requirement already satisfied: requests in /usr/local/lib/python3.7/dist-packages (from transformers) (2.23.0)\n",
            "Collecting huggingface-hub<1.0,>=0.1.0\n",
            "  Downloading huggingface_hub-0.8.1-py3-none-any.whl (101 kB)\n",
            "\u001b[K     |████████████████████████████████| 101 kB 6.1 MB/s \n",
            "\u001b[?25hRequirement already satisfied: importlib-metadata in /usr/local/lib/python3.7/dist-packages (from transformers) (4.11.4)\n",
            "Requirement already satisfied: packaging>=20.0 in /usr/local/lib/python3.7/dist-packages (from transformers) (21.3)\n",
            "Collecting pyyaml>=5.1\n",
            "  Downloading PyYAML-6.0-cp37-cp37m-manylinux_2_5_x86_64.manylinux1_x86_64.manylinux_2_12_x86_64.manylinux2010_x86_64.whl (596 kB)\n",
            "\u001b[K     |████████████████████████████████| 596 kB 27.9 MB/s \n",
            "\u001b[?25hRequirement already satisfied: tqdm>=4.27 in /usr/local/lib/python3.7/dist-packages (from transformers) (4.64.0)\n",
            "Requirement already satisfied: regex!=2019.12.17 in /usr/local/lib/python3.7/dist-packages (from transformers) (2022.6.2)\n",
            "Collecting tokenizers!=0.11.3,<0.13,>=0.11.1\n",
            "  Downloading tokenizers-0.12.1-cp37-cp37m-manylinux_2_12_x86_64.manylinux2010_x86_64.whl (6.6 MB)\n",
            "\u001b[K     |████████████████████████████████| 6.6 MB 54.3 MB/s \n",
            "\u001b[?25hRequirement already satisfied: numpy>=1.17 in /usr/local/lib/python3.7/dist-packages (from transformers) (1.21.6)\n",
            "Requirement already satisfied: typing-extensions>=3.7.4.3 in /usr/local/lib/python3.7/dist-packages (from huggingface-hub<1.0,>=0.1.0->transformers) (4.1.1)\n",
            "Requirement already satisfied: pyparsing!=3.0.5,>=2.0.2 in /usr/local/lib/python3.7/dist-packages (from packaging>=20.0->transformers) (3.0.9)\n",
            "Requirement already satisfied: zipp>=0.5 in /usr/local/lib/python3.7/dist-packages (from importlib-metadata->transformers) (3.8.0)\n",
            "Requirement already satisfied: certifi>=2017.4.17 in /usr/local/lib/python3.7/dist-packages (from requests->transformers) (2022.6.15)\n",
            "Requirement already satisfied: idna<3,>=2.5 in /usr/local/lib/python3.7/dist-packages (from requests->transformers) (2.10)\n",
            "Requirement already satisfied: chardet<4,>=3.0.2 in /usr/local/lib/python3.7/dist-packages (from requests->transformers) (3.0.4)\n",
            "Requirement already satisfied: urllib3!=1.25.0,!=1.25.1,<1.26,>=1.21.1 in /usr/local/lib/python3.7/dist-packages (from requests->transformers) (1.24.3)\n",
            "Installing collected packages: pyyaml, tokenizers, huggingface-hub, transformers\n",
            "  Attempting uninstall: pyyaml\n",
            "    Found existing installation: PyYAML 3.13\n",
            "    Uninstalling PyYAML-3.13:\n",
            "      Successfully uninstalled PyYAML-3.13\n",
            "Successfully installed huggingface-hub-0.8.1 pyyaml-6.0 tokenizers-0.12.1 transformers-4.20.1\n"
          ]
        }
      ]
    },
    {
      "cell_type": "code",
      "source": [
        "'''%%capture\n",
        "!pip install tensorflow --upgrade'''"
      ],
      "metadata": {
        "id": "dK4h2fp4gS_b",
        "colab": {
          "base_uri": "https://localhost:8080/",
          "height": 36
        },
        "outputId": "9303241e-5356-4192-ca7a-64f1f002c890"
      },
      "execution_count": 2,
      "outputs": [
        {
          "output_type": "execute_result",
          "data": {
            "text/plain": [
              "'%%capture\\n!pip install tensorflow --upgrade'"
            ],
            "application/vnd.google.colaboratory.intrinsic+json": {
              "type": "string"
            }
          },
          "metadata": {},
          "execution_count": 2
        }
      ]
    },
    {
      "cell_type": "code",
      "source": [
        "%tensorflow_version 1.x"
      ],
      "metadata": {
        "colab": {
          "base_uri": "https://localhost:8080/"
        },
        "id": "Q0Xf41EwhL0C",
        "outputId": "b6782704-9e79-4642-faf7-f860fa2bbb07"
      },
      "execution_count": 3,
      "outputs": [
        {
          "output_type": "stream",
          "name": "stdout",
          "text": [
            "TensorFlow 1.x selected.\n"
          ]
        }
      ]
    },
    {
      "cell_type": "code",
      "metadata": {
        "id": "sQSnHTwOi6TZ",
        "colab": {
          "base_uri": "https://localhost:8080/"
        },
        "outputId": "c34f69ce-018d-402d-bf33-d016cfc11eea"
      },
      "source": [
        "import numpy as np\n",
        "import pandas as pd\n",
        "import gzip\n",
        "import json\n",
        "import nltk\n",
        "from sklearn.model_selection import train_test_split\n",
        "from sklearn.feature_extraction.text import TfidfVectorizer\n",
        "from sklearn.naive_bayes import MultinomialNB\n",
        "from imblearn.under_sampling import RandomUnderSampler\n",
        "from sklearn.metrics import confusion_matrix, ConfusionMatrixDisplay\n",
        "import os\n",
        "from urllib.request import urlretrieve\n",
        "from statsmodels.stats.contingency_tables import mcnemar\n",
        "from sklearn.metrics import accuracy_score\n",
        "import matplotlib.pyplot as plt"
      ],
      "execution_count": 4,
      "outputs": [
        {
          "output_type": "stream",
          "name": "stderr",
          "text": [
            "/usr/local/lib/python3.7/dist-packages/statsmodels/tools/_testing.py:19: FutureWarning: pandas.util.testing is deprecated. Use the functions in the public API at pandas.testing instead.\n",
            "  import pandas.util.testing as tm\n"
          ]
        }
      ]
    },
    {
      "cell_type": "markdown",
      "metadata": {
        "id": "5dIq4xWzi6Th"
      },
      "source": [
        "Run the following to download the necessary files"
      ]
    },
    {
      "cell_type": "code",
      "metadata": {
        "id": "GEUzfMXAi6Ti"
      },
      "source": [
        "def download(file, url):\n",
        "    if not os.path.exists(file):\n",
        "        urlretrieve(url, file)"
      ],
      "execution_count": 5,
      "outputs": []
    },
    {
      "cell_type": "code",
      "source": [
        "download(\"Automotive_5.json.gz\", \"https://www.dropbox.com/s/vfpxgpoii7lpy4x/Automotive_5.json.gz?dl=1\")"
      ],
      "metadata": {
        "id": "Rw7H0NU2z9dw"
      },
      "execution_count": 6,
      "outputs": []
    },
    {
      "cell_type": "code",
      "metadata": {
        "id": "T94vizGRi6Tq",
        "colab": {
          "base_uri": "https://localhost:8080/"
        },
        "outputId": "82c15acd-6af6-430a-e9bc-1b9ee95f8a78"
      },
      "source": [
        "nltk.download(\"punkt\")"
      ],
      "execution_count": 7,
      "outputs": [
        {
          "output_type": "stream",
          "name": "stderr",
          "text": [
            "[nltk_data] Downloading package punkt to /root/nltk_data...\n",
            "[nltk_data]   Unzipping tokenizers/punkt.zip.\n"
          ]
        },
        {
          "output_type": "execute_result",
          "data": {
            "text/plain": [
              "True"
            ]
          },
          "metadata": {},
          "execution_count": 7
        }
      ]
    },
    {
      "cell_type": "markdown",
      "metadata": {
        "id": "HefuXgg9i6Tv"
      },
      "source": [
        "## Exercises\n",
        "\n",
        "1) We provide in the `Automotive_5.json.gz` file a dataset composed by several reviews posted on Amazon.com about Automotive products. \n",
        "Each review is labeled with a score between 1 and 5 stars (represented by the ```overall``` feature).\n",
        "\n",
        "The text of each review is represented by the ```reviewText``` feature which is going to be our input data along with the ```overall``` one.\n",
        "\n",
        "Load the first 300000 reviews in the dataset putting it in a new Pandas dataframe."
      ]
    },
    {
      "cell_type": "code",
      "source": [
        "df = pd.read_json('Automotive_5.json.gz', \n",
        "                  lines = True ,\n",
        "                  compression = 'gzip', \n",
        "                  nrows = 300000\n",
        "                  )\n"
      ],
      "metadata": {
        "id": "MiCtSmA8nqFy"
      },
      "execution_count": 8,
      "outputs": []
    },
    {
      "cell_type": "markdown",
      "source": [
        "2) Print the dataset rows number and visualize the first 5 rows."
      ],
      "metadata": {
        "id": "YejpY-z8mMEf"
      }
    },
    {
      "cell_type": "code",
      "source": [
        "df.head()"
      ],
      "metadata": {
        "colab": {
          "base_uri": "https://localhost:8080/",
          "height": 337
        },
        "id": "JeVlNS4Mo49m",
        "outputId": "de30e213-e7a8-42c2-871c-227f958401c5"
      },
      "execution_count": 9,
      "outputs": [
        {
          "output_type": "execute_result",
          "data": {
            "text/plain": [
              "   overall  verified   reviewTime      reviewerID        asin  \\\n",
              "0        4     False   05 1, 2015   A8WEXFRWX1ZHH  0209688726   \n",
              "1        1      True  04 19, 2018   ABCA1A8E4DGV1  0209688726   \n",
              "2        1      True  04 16, 2018  A1NX8HM89FRQ32  0209688726   \n",
              "3        3      True  04 13, 2018  A1X77G023NY0KY  0209688726   \n",
              "4        5      True   04 8, 2018  A3GK37JO2MGW6Q  0209688726   \n",
              "\n",
              "                  style reviewerName  \\\n",
              "0     {'Color:': ' AC'}   Goldengate   \n",
              "1   {'Color:': ' Blue'}          noe   \n",
              "2  {'Color:': ' Black'}       Eduard   \n",
              "3     {'Color:': ' CA'}       Lauren   \n",
              "4  {'Color:': ' Black'}        danny   \n",
              "\n",
              "                                          reviewText  \\\n",
              "0  After I wrote the below review, the manufactur...   \n",
              "1  It sucks barely picks up anything definitely n...   \n",
              "2  Well to write a short one, it blew 2 fuses of ...   \n",
              "3  I have absolutely no memory of buying this but...   \n",
              "4                               it ok it does it job   \n",
              "\n",
              "                                             summary  unixReviewTime vote  \\\n",
              "0  Works well if you place phone in horizontally ...      1430438400  NaN   \n",
              "1                                              sucks      1524096000  NaN   \n",
              "2                                          Defective      1523836800  NaN   \n",
              "3                         Looks cool! Probably works      1523577600  NaN   \n",
              "4                                         Five Stars      1523145600  NaN   \n",
              "\n",
              "  image  \n",
              "0   NaN  \n",
              "1   NaN  \n",
              "2   NaN  \n",
              "3   NaN  \n",
              "4   NaN  "
            ],
            "text/html": [
              "\n",
              "  <div id=\"df-7371b0fb-4245-4d61-a16d-632f8afc4b47\">\n",
              "    <div class=\"colab-df-container\">\n",
              "      <div>\n",
              "<style scoped>\n",
              "    .dataframe tbody tr th:only-of-type {\n",
              "        vertical-align: middle;\n",
              "    }\n",
              "\n",
              "    .dataframe tbody tr th {\n",
              "        vertical-align: top;\n",
              "    }\n",
              "\n",
              "    .dataframe thead th {\n",
              "        text-align: right;\n",
              "    }\n",
              "</style>\n",
              "<table border=\"1\" class=\"dataframe\">\n",
              "  <thead>\n",
              "    <tr style=\"text-align: right;\">\n",
              "      <th></th>\n",
              "      <th>overall</th>\n",
              "      <th>verified</th>\n",
              "      <th>reviewTime</th>\n",
              "      <th>reviewerID</th>\n",
              "      <th>asin</th>\n",
              "      <th>style</th>\n",
              "      <th>reviewerName</th>\n",
              "      <th>reviewText</th>\n",
              "      <th>summary</th>\n",
              "      <th>unixReviewTime</th>\n",
              "      <th>vote</th>\n",
              "      <th>image</th>\n",
              "    </tr>\n",
              "  </thead>\n",
              "  <tbody>\n",
              "    <tr>\n",
              "      <th>0</th>\n",
              "      <td>4</td>\n",
              "      <td>False</td>\n",
              "      <td>05 1, 2015</td>\n",
              "      <td>A8WEXFRWX1ZHH</td>\n",
              "      <td>0209688726</td>\n",
              "      <td>{'Color:': ' AC'}</td>\n",
              "      <td>Goldengate</td>\n",
              "      <td>After I wrote the below review, the manufactur...</td>\n",
              "      <td>Works well if you place phone in horizontally ...</td>\n",
              "      <td>1430438400</td>\n",
              "      <td>NaN</td>\n",
              "      <td>NaN</td>\n",
              "    </tr>\n",
              "    <tr>\n",
              "      <th>1</th>\n",
              "      <td>1</td>\n",
              "      <td>True</td>\n",
              "      <td>04 19, 2018</td>\n",
              "      <td>ABCA1A8E4DGV1</td>\n",
              "      <td>0209688726</td>\n",
              "      <td>{'Color:': ' Blue'}</td>\n",
              "      <td>noe</td>\n",
              "      <td>It sucks barely picks up anything definitely n...</td>\n",
              "      <td>sucks</td>\n",
              "      <td>1524096000</td>\n",
              "      <td>NaN</td>\n",
              "      <td>NaN</td>\n",
              "    </tr>\n",
              "    <tr>\n",
              "      <th>2</th>\n",
              "      <td>1</td>\n",
              "      <td>True</td>\n",
              "      <td>04 16, 2018</td>\n",
              "      <td>A1NX8HM89FRQ32</td>\n",
              "      <td>0209688726</td>\n",
              "      <td>{'Color:': ' Black'}</td>\n",
              "      <td>Eduard</td>\n",
              "      <td>Well to write a short one, it blew 2 fuses of ...</td>\n",
              "      <td>Defective</td>\n",
              "      <td>1523836800</td>\n",
              "      <td>NaN</td>\n",
              "      <td>NaN</td>\n",
              "    </tr>\n",
              "    <tr>\n",
              "      <th>3</th>\n",
              "      <td>3</td>\n",
              "      <td>True</td>\n",
              "      <td>04 13, 2018</td>\n",
              "      <td>A1X77G023NY0KY</td>\n",
              "      <td>0209688726</td>\n",
              "      <td>{'Color:': ' CA'}</td>\n",
              "      <td>Lauren</td>\n",
              "      <td>I have absolutely no memory of buying this but...</td>\n",
              "      <td>Looks cool! Probably works</td>\n",
              "      <td>1523577600</td>\n",
              "      <td>NaN</td>\n",
              "      <td>NaN</td>\n",
              "    </tr>\n",
              "    <tr>\n",
              "      <th>4</th>\n",
              "      <td>5</td>\n",
              "      <td>True</td>\n",
              "      <td>04 8, 2018</td>\n",
              "      <td>A3GK37JO2MGW6Q</td>\n",
              "      <td>0209688726</td>\n",
              "      <td>{'Color:': ' Black'}</td>\n",
              "      <td>danny</td>\n",
              "      <td>it ok it does it job</td>\n",
              "      <td>Five Stars</td>\n",
              "      <td>1523145600</td>\n",
              "      <td>NaN</td>\n",
              "      <td>NaN</td>\n",
              "    </tr>\n",
              "  </tbody>\n",
              "</table>\n",
              "</div>\n",
              "      <button class=\"colab-df-convert\" onclick=\"convertToInteractive('df-7371b0fb-4245-4d61-a16d-632f8afc4b47')\"\n",
              "              title=\"Convert this dataframe to an interactive table.\"\n",
              "              style=\"display:none;\">\n",
              "        \n",
              "  <svg xmlns=\"http://www.w3.org/2000/svg\" height=\"24px\"viewBox=\"0 0 24 24\"\n",
              "       width=\"24px\">\n",
              "    <path d=\"M0 0h24v24H0V0z\" fill=\"none\"/>\n",
              "    <path d=\"M18.56 5.44l.94 2.06.94-2.06 2.06-.94-2.06-.94-.94-2.06-.94 2.06-2.06.94zm-11 1L8.5 8.5l.94-2.06 2.06-.94-2.06-.94L8.5 2.5l-.94 2.06-2.06.94zm10 10l.94 2.06.94-2.06 2.06-.94-2.06-.94-.94-2.06-.94 2.06-2.06.94z\"/><path d=\"M17.41 7.96l-1.37-1.37c-.4-.4-.92-.59-1.43-.59-.52 0-1.04.2-1.43.59L10.3 9.45l-7.72 7.72c-.78.78-.78 2.05 0 2.83L4 21.41c.39.39.9.59 1.41.59.51 0 1.02-.2 1.41-.59l7.78-7.78 2.81-2.81c.8-.78.8-2.07 0-2.86zM5.41 20L4 18.59l7.72-7.72 1.47 1.35L5.41 20z\"/>\n",
              "  </svg>\n",
              "      </button>\n",
              "      \n",
              "  <style>\n",
              "    .colab-df-container {\n",
              "      display:flex;\n",
              "      flex-wrap:wrap;\n",
              "      gap: 12px;\n",
              "    }\n",
              "\n",
              "    .colab-df-convert {\n",
              "      background-color: #E8F0FE;\n",
              "      border: none;\n",
              "      border-radius: 50%;\n",
              "      cursor: pointer;\n",
              "      display: none;\n",
              "      fill: #1967D2;\n",
              "      height: 32px;\n",
              "      padding: 0 0 0 0;\n",
              "      width: 32px;\n",
              "    }\n",
              "\n",
              "    .colab-df-convert:hover {\n",
              "      background-color: #E2EBFA;\n",
              "      box-shadow: 0px 1px 2px rgba(60, 64, 67, 0.3), 0px 1px 3px 1px rgba(60, 64, 67, 0.15);\n",
              "      fill: #174EA6;\n",
              "    }\n",
              "\n",
              "    [theme=dark] .colab-df-convert {\n",
              "      background-color: #3B4455;\n",
              "      fill: #D2E3FC;\n",
              "    }\n",
              "\n",
              "    [theme=dark] .colab-df-convert:hover {\n",
              "      background-color: #434B5C;\n",
              "      box-shadow: 0px 1px 3px 1px rgba(0, 0, 0, 0.15);\n",
              "      filter: drop-shadow(0px 1px 2px rgba(0, 0, 0, 0.3));\n",
              "      fill: #FFFFFF;\n",
              "    }\n",
              "  </style>\n",
              "\n",
              "      <script>\n",
              "        const buttonEl =\n",
              "          document.querySelector('#df-7371b0fb-4245-4d61-a16d-632f8afc4b47 button.colab-df-convert');\n",
              "        buttonEl.style.display =\n",
              "          google.colab.kernel.accessAllowed ? 'block' : 'none';\n",
              "\n",
              "        async function convertToInteractive(key) {\n",
              "          const element = document.querySelector('#df-7371b0fb-4245-4d61-a16d-632f8afc4b47');\n",
              "          const dataTable =\n",
              "            await google.colab.kernel.invokeFunction('convertToInteractive',\n",
              "                                                     [key], {});\n",
              "          if (!dataTable) return;\n",
              "\n",
              "          const docLinkHtml = 'Like what you see? Visit the ' +\n",
              "            '<a target=\"_blank\" href=https://colab.research.google.com/notebooks/data_table.ipynb>data table notebook</a>'\n",
              "            + ' to learn more about interactive tables.';\n",
              "          element.innerHTML = '';\n",
              "          dataTable['output_type'] = 'display_data';\n",
              "          await google.colab.output.renderOutput(dataTable, element);\n",
              "          const docLink = document.createElement('div');\n",
              "          docLink.innerHTML = docLinkHtml;\n",
              "          element.appendChild(docLink);\n",
              "        }\n",
              "      </script>\n",
              "    </div>\n",
              "  </div>\n",
              "  "
            ]
          },
          "metadata": {},
          "execution_count": 9
        }
      ]
    },
    {
      "cell_type": "markdown",
      "source": [
        "3) Undersample the data by `overall` feature in order to obtain a class-balanced dataset.\n",
        "\n"
      ],
      "metadata": {
        "id": "hooSUzWZmRJM"
      }
    },
    {
      "cell_type": "code",
      "source": [
        "df['overall'].value_counts()"
      ],
      "metadata": {
        "colab": {
          "base_uri": "https://localhost:8080/"
        },
        "id": "hPyJxU0itOTL",
        "outputId": "0b97ff11-68d5-4743-e319-f3792e1c795f"
      },
      "execution_count": 10,
      "outputs": [
        {
          "output_type": "execute_result",
          "data": {
            "text/plain": [
              "5    221340\n",
              "4     42921\n",
              "3     16445\n",
              "1     11568\n",
              "2      7726\n",
              "Name: overall, dtype: int64"
            ]
          },
          "metadata": {},
          "execution_count": 10
        }
      ]
    },
    {
      "cell_type": "code",
      "source": [
        "X = df.drop('overall', axis=1)\n",
        "y = df['overall']"
      ],
      "metadata": {
        "id": "IJ3S7dvjuPVB"
      },
      "execution_count": 11,
      "outputs": []
    },
    {
      "cell_type": "code",
      "source": [
        "rus = RandomUnderSampler(random_state = 42)\n",
        "X_r, y_r = rus.fit_resample(X, y)\n",
        "y_r.value_counts()"
      ],
      "metadata": {
        "colab": {
          "base_uri": "https://localhost:8080/"
        },
        "id": "JlfqCCGNujOL",
        "outputId": "792148a7-4ab9-409b-e2b9-9868d9c0bcbe"
      },
      "execution_count": 12,
      "outputs": [
        {
          "output_type": "execute_result",
          "data": {
            "text/plain": [
              "1    7726\n",
              "2    7726\n",
              "3    7726\n",
              "4    7726\n",
              "5    7726\n",
              "Name: overall, dtype: int64"
            ]
          },
          "metadata": {},
          "execution_count": 12
        }
      ]
    },
    {
      "cell_type": "markdown",
      "source": [
        "4) Cast the `reviewText` column to unicode string\n"
      ],
      "metadata": {
        "id": "jbaY-6hxnY5L"
      }
    },
    {
      "cell_type": "code",
      "source": [
        "df0 = pd.DataFrame({'reviewtext': X_r['reviewText'], 'overall': y_r})\n",
        "df0"
      ],
      "metadata": {
        "colab": {
          "base_uri": "https://localhost:8080/",
          "height": 424
        },
        "id": "mV5oApaODqOu",
        "outputId": "a3c4fa4c-910a-418a-b3a9-3db10926ad71"
      },
      "execution_count": 13,
      "outputs": [
        {
          "output_type": "execute_result",
          "data": {
            "text/plain": [
              "                                              reviewtext  overall\n",
              "0      Amazon fit info was wrong. Threaded connector ...        1\n",
              "1      This came recommended by a friend, so I was ha...        1\n",
              "2      My transmission is hard shift at 2sd gear, I p...        1\n",
              "3                Yea this sucked, would not stick at all        1\n",
              "4      I've installed trailer lights before and they ...        1\n",
              "...                                                  ...      ...\n",
              "38625  Great plugs, cheaper than local parts stores, ...        5\n",
              "38626  I have some of these, but needed one more to k...        5\n",
              "38627  This is the best wash Ive found, you need very...        5\n",
              "38628                             they fit and work well        5\n",
              "38629  Excellent oil filter and cost a considerable a...        5\n",
              "\n",
              "[38630 rows x 2 columns]"
            ],
            "text/html": [
              "\n",
              "  <div id=\"df-c48a3331-fe74-43d0-9a15-0d02724f2439\">\n",
              "    <div class=\"colab-df-container\">\n",
              "      <div>\n",
              "<style scoped>\n",
              "    .dataframe tbody tr th:only-of-type {\n",
              "        vertical-align: middle;\n",
              "    }\n",
              "\n",
              "    .dataframe tbody tr th {\n",
              "        vertical-align: top;\n",
              "    }\n",
              "\n",
              "    .dataframe thead th {\n",
              "        text-align: right;\n",
              "    }\n",
              "</style>\n",
              "<table border=\"1\" class=\"dataframe\">\n",
              "  <thead>\n",
              "    <tr style=\"text-align: right;\">\n",
              "      <th></th>\n",
              "      <th>reviewtext</th>\n",
              "      <th>overall</th>\n",
              "    </tr>\n",
              "  </thead>\n",
              "  <tbody>\n",
              "    <tr>\n",
              "      <th>0</th>\n",
              "      <td>Amazon fit info was wrong. Threaded connector ...</td>\n",
              "      <td>1</td>\n",
              "    </tr>\n",
              "    <tr>\n",
              "      <th>1</th>\n",
              "      <td>This came recommended by a friend, so I was ha...</td>\n",
              "      <td>1</td>\n",
              "    </tr>\n",
              "    <tr>\n",
              "      <th>2</th>\n",
              "      <td>My transmission is hard shift at 2sd gear, I p...</td>\n",
              "      <td>1</td>\n",
              "    </tr>\n",
              "    <tr>\n",
              "      <th>3</th>\n",
              "      <td>Yea this sucked, would not stick at all</td>\n",
              "      <td>1</td>\n",
              "    </tr>\n",
              "    <tr>\n",
              "      <th>4</th>\n",
              "      <td>I've installed trailer lights before and they ...</td>\n",
              "      <td>1</td>\n",
              "    </tr>\n",
              "    <tr>\n",
              "      <th>...</th>\n",
              "      <td>...</td>\n",
              "      <td>...</td>\n",
              "    </tr>\n",
              "    <tr>\n",
              "      <th>38625</th>\n",
              "      <td>Great plugs, cheaper than local parts stores, ...</td>\n",
              "      <td>5</td>\n",
              "    </tr>\n",
              "    <tr>\n",
              "      <th>38626</th>\n",
              "      <td>I have some of these, but needed one more to k...</td>\n",
              "      <td>5</td>\n",
              "    </tr>\n",
              "    <tr>\n",
              "      <th>38627</th>\n",
              "      <td>This is the best wash Ive found, you need very...</td>\n",
              "      <td>5</td>\n",
              "    </tr>\n",
              "    <tr>\n",
              "      <th>38628</th>\n",
              "      <td>they fit and work well</td>\n",
              "      <td>5</td>\n",
              "    </tr>\n",
              "    <tr>\n",
              "      <th>38629</th>\n",
              "      <td>Excellent oil filter and cost a considerable a...</td>\n",
              "      <td>5</td>\n",
              "    </tr>\n",
              "  </tbody>\n",
              "</table>\n",
              "<p>38630 rows × 2 columns</p>\n",
              "</div>\n",
              "      <button class=\"colab-df-convert\" onclick=\"convertToInteractive('df-c48a3331-fe74-43d0-9a15-0d02724f2439')\"\n",
              "              title=\"Convert this dataframe to an interactive table.\"\n",
              "              style=\"display:none;\">\n",
              "        \n",
              "  <svg xmlns=\"http://www.w3.org/2000/svg\" height=\"24px\"viewBox=\"0 0 24 24\"\n",
              "       width=\"24px\">\n",
              "    <path d=\"M0 0h24v24H0V0z\" fill=\"none\"/>\n",
              "    <path d=\"M18.56 5.44l.94 2.06.94-2.06 2.06-.94-2.06-.94-.94-2.06-.94 2.06-2.06.94zm-11 1L8.5 8.5l.94-2.06 2.06-.94-2.06-.94L8.5 2.5l-.94 2.06-2.06.94zm10 10l.94 2.06.94-2.06 2.06-.94-2.06-.94-.94-2.06-.94 2.06-2.06.94z\"/><path d=\"M17.41 7.96l-1.37-1.37c-.4-.4-.92-.59-1.43-.59-.52 0-1.04.2-1.43.59L10.3 9.45l-7.72 7.72c-.78.78-.78 2.05 0 2.83L4 21.41c.39.39.9.59 1.41.59.51 0 1.02-.2 1.41-.59l7.78-7.78 2.81-2.81c.8-.78.8-2.07 0-2.86zM5.41 20L4 18.59l7.72-7.72 1.47 1.35L5.41 20z\"/>\n",
              "  </svg>\n",
              "      </button>\n",
              "      \n",
              "  <style>\n",
              "    .colab-df-container {\n",
              "      display:flex;\n",
              "      flex-wrap:wrap;\n",
              "      gap: 12px;\n",
              "    }\n",
              "\n",
              "    .colab-df-convert {\n",
              "      background-color: #E8F0FE;\n",
              "      border: none;\n",
              "      border-radius: 50%;\n",
              "      cursor: pointer;\n",
              "      display: none;\n",
              "      fill: #1967D2;\n",
              "      height: 32px;\n",
              "      padding: 0 0 0 0;\n",
              "      width: 32px;\n",
              "    }\n",
              "\n",
              "    .colab-df-convert:hover {\n",
              "      background-color: #E2EBFA;\n",
              "      box-shadow: 0px 1px 2px rgba(60, 64, 67, 0.3), 0px 1px 3px 1px rgba(60, 64, 67, 0.15);\n",
              "      fill: #174EA6;\n",
              "    }\n",
              "\n",
              "    [theme=dark] .colab-df-convert {\n",
              "      background-color: #3B4455;\n",
              "      fill: #D2E3FC;\n",
              "    }\n",
              "\n",
              "    [theme=dark] .colab-df-convert:hover {\n",
              "      background-color: #434B5C;\n",
              "      box-shadow: 0px 1px 3px 1px rgba(0, 0, 0, 0.15);\n",
              "      filter: drop-shadow(0px 1px 2px rgba(0, 0, 0, 0.3));\n",
              "      fill: #FFFFFF;\n",
              "    }\n",
              "  </style>\n",
              "\n",
              "      <script>\n",
              "        const buttonEl =\n",
              "          document.querySelector('#df-c48a3331-fe74-43d0-9a15-0d02724f2439 button.colab-df-convert');\n",
              "        buttonEl.style.display =\n",
              "          google.colab.kernel.accessAllowed ? 'block' : 'none';\n",
              "\n",
              "        async function convertToInteractive(key) {\n",
              "          const element = document.querySelector('#df-c48a3331-fe74-43d0-9a15-0d02724f2439');\n",
              "          const dataTable =\n",
              "            await google.colab.kernel.invokeFunction('convertToInteractive',\n",
              "                                                     [key], {});\n",
              "          if (!dataTable) return;\n",
              "\n",
              "          const docLinkHtml = 'Like what you see? Visit the ' +\n",
              "            '<a target=\"_blank\" href=https://colab.research.google.com/notebooks/data_table.ipynb>data table notebook</a>'\n",
              "            + ' to learn more about interactive tables.';\n",
              "          element.innerHTML = '';\n",
              "          dataTable['output_type'] = 'display_data';\n",
              "          await google.colab.output.renderOutput(dataTable, element);\n",
              "          const docLink = document.createElement('div');\n",
              "          docLink.innerHTML = docLinkHtml;\n",
              "          element.appendChild(docLink);\n",
              "        }\n",
              "      </script>\n",
              "    </div>\n",
              "  </div>\n",
              "  "
            ]
          },
          "metadata": {},
          "execution_count": 13
        }
      ]
    },
    {
      "cell_type": "code",
      "source": [
        "# list(df0['reviewtext'].dtype.value_counts().index)"
      ],
      "metadata": {
        "id": "T89v7CiZDsV7"
      },
      "execution_count": 14,
      "outputs": []
    },
    {
      "cell_type": "code",
      "source": [
        "def cast(row):\n",
        "  return str(row).encode('utf-8')\n",
        "\n",
        "df0['reviewtext'] = df0['reviewtext'].apply(cast)"
      ],
      "metadata": {
        "id": "mlkHazPwDlZx"
      },
      "execution_count": 15,
      "outputs": []
    },
    {
      "cell_type": "code",
      "source": [
        "type(df0['reviewtext'][0])"
      ],
      "metadata": {
        "colab": {
          "base_uri": "https://localhost:8080/"
        },
        "id": "QUOVt7snYfBS",
        "outputId": "fe9e4687-29fc-4bc8-8a88-e4a1ef8d1134"
      },
      "execution_count": 16,
      "outputs": [
        {
          "output_type": "execute_result",
          "data": {
            "text/plain": [
              "bytes"
            ]
          },
          "metadata": {},
          "execution_count": 16
        }
      ]
    },
    {
      "cell_type": "markdown",
      "source": [
        "**5)** Select from data only the features named ```reviewText``` and ```overall``` putting them in a dataframe\n",
        "\n",
        "\n",
        "\n"
      ],
      "metadata": {
        "id": "_7uRHPMRS2oj"
      }
    },
    {
      "cell_type": "code",
      "source": [
        "df1 = df0[['reviewtext', 'overall']]\n",
        "df1"
      ],
      "metadata": {
        "colab": {
          "base_uri": "https://localhost:8080/",
          "height": 424
        },
        "id": "f6UUFM8RY7Hf",
        "outputId": "a1886926-72b3-4ac1-b631-7d4f903994a5"
      },
      "execution_count": 17,
      "outputs": [
        {
          "output_type": "execute_result",
          "data": {
            "text/plain": [
              "                                              reviewtext  overall\n",
              "0      b'Amazon fit info was wrong. Threaded connecto...        1\n",
              "1      b'This came recommended by a friend, so I was ...        1\n",
              "2      b'My transmission is hard shift at 2sd gear, I...        1\n",
              "3             b'Yea this sucked, would not stick at all'        1\n",
              "4      b\"I've installed trailer lights before and the...        1\n",
              "...                                                  ...      ...\n",
              "38625  b'Great plugs, cheaper than local parts stores...        5\n",
              "38626  b'I have some of these, but needed one more to...        5\n",
              "38627  b'This is the best wash Ive found, you need ve...        5\n",
              "38628                          b'they fit and work well'        5\n",
              "38629  b'Excellent oil filter and cost a considerable...        5\n",
              "\n",
              "[38630 rows x 2 columns]"
            ],
            "text/html": [
              "\n",
              "  <div id=\"df-f8e3d91e-b92d-4d78-82d3-a25cbbe62440\">\n",
              "    <div class=\"colab-df-container\">\n",
              "      <div>\n",
              "<style scoped>\n",
              "    .dataframe tbody tr th:only-of-type {\n",
              "        vertical-align: middle;\n",
              "    }\n",
              "\n",
              "    .dataframe tbody tr th {\n",
              "        vertical-align: top;\n",
              "    }\n",
              "\n",
              "    .dataframe thead th {\n",
              "        text-align: right;\n",
              "    }\n",
              "</style>\n",
              "<table border=\"1\" class=\"dataframe\">\n",
              "  <thead>\n",
              "    <tr style=\"text-align: right;\">\n",
              "      <th></th>\n",
              "      <th>reviewtext</th>\n",
              "      <th>overall</th>\n",
              "    </tr>\n",
              "  </thead>\n",
              "  <tbody>\n",
              "    <tr>\n",
              "      <th>0</th>\n",
              "      <td>b'Amazon fit info was wrong. Threaded connecto...</td>\n",
              "      <td>1</td>\n",
              "    </tr>\n",
              "    <tr>\n",
              "      <th>1</th>\n",
              "      <td>b'This came recommended by a friend, so I was ...</td>\n",
              "      <td>1</td>\n",
              "    </tr>\n",
              "    <tr>\n",
              "      <th>2</th>\n",
              "      <td>b'My transmission is hard shift at 2sd gear, I...</td>\n",
              "      <td>1</td>\n",
              "    </tr>\n",
              "    <tr>\n",
              "      <th>3</th>\n",
              "      <td>b'Yea this sucked, would not stick at all'</td>\n",
              "      <td>1</td>\n",
              "    </tr>\n",
              "    <tr>\n",
              "      <th>4</th>\n",
              "      <td>b\"I've installed trailer lights before and the...</td>\n",
              "      <td>1</td>\n",
              "    </tr>\n",
              "    <tr>\n",
              "      <th>...</th>\n",
              "      <td>...</td>\n",
              "      <td>...</td>\n",
              "    </tr>\n",
              "    <tr>\n",
              "      <th>38625</th>\n",
              "      <td>b'Great plugs, cheaper than local parts stores...</td>\n",
              "      <td>5</td>\n",
              "    </tr>\n",
              "    <tr>\n",
              "      <th>38626</th>\n",
              "      <td>b'I have some of these, but needed one more to...</td>\n",
              "      <td>5</td>\n",
              "    </tr>\n",
              "    <tr>\n",
              "      <th>38627</th>\n",
              "      <td>b'This is the best wash Ive found, you need ve...</td>\n",
              "      <td>5</td>\n",
              "    </tr>\n",
              "    <tr>\n",
              "      <th>38628</th>\n",
              "      <td>b'they fit and work well'</td>\n",
              "      <td>5</td>\n",
              "    </tr>\n",
              "    <tr>\n",
              "      <th>38629</th>\n",
              "      <td>b'Excellent oil filter and cost a considerable...</td>\n",
              "      <td>5</td>\n",
              "    </tr>\n",
              "  </tbody>\n",
              "</table>\n",
              "<p>38630 rows × 2 columns</p>\n",
              "</div>\n",
              "      <button class=\"colab-df-convert\" onclick=\"convertToInteractive('df-f8e3d91e-b92d-4d78-82d3-a25cbbe62440')\"\n",
              "              title=\"Convert this dataframe to an interactive table.\"\n",
              "              style=\"display:none;\">\n",
              "        \n",
              "  <svg xmlns=\"http://www.w3.org/2000/svg\" height=\"24px\"viewBox=\"0 0 24 24\"\n",
              "       width=\"24px\">\n",
              "    <path d=\"M0 0h24v24H0V0z\" fill=\"none\"/>\n",
              "    <path d=\"M18.56 5.44l.94 2.06.94-2.06 2.06-.94-2.06-.94-.94-2.06-.94 2.06-2.06.94zm-11 1L8.5 8.5l.94-2.06 2.06-.94-2.06-.94L8.5 2.5l-.94 2.06-2.06.94zm10 10l.94 2.06.94-2.06 2.06-.94-2.06-.94-.94-2.06-.94 2.06-2.06.94z\"/><path d=\"M17.41 7.96l-1.37-1.37c-.4-.4-.92-.59-1.43-.59-.52 0-1.04.2-1.43.59L10.3 9.45l-7.72 7.72c-.78.78-.78 2.05 0 2.83L4 21.41c.39.39.9.59 1.41.59.51 0 1.02-.2 1.41-.59l7.78-7.78 2.81-2.81c.8-.78.8-2.07 0-2.86zM5.41 20L4 18.59l7.72-7.72 1.47 1.35L5.41 20z\"/>\n",
              "  </svg>\n",
              "      </button>\n",
              "      \n",
              "  <style>\n",
              "    .colab-df-container {\n",
              "      display:flex;\n",
              "      flex-wrap:wrap;\n",
              "      gap: 12px;\n",
              "    }\n",
              "\n",
              "    .colab-df-convert {\n",
              "      background-color: #E8F0FE;\n",
              "      border: none;\n",
              "      border-radius: 50%;\n",
              "      cursor: pointer;\n",
              "      display: none;\n",
              "      fill: #1967D2;\n",
              "      height: 32px;\n",
              "      padding: 0 0 0 0;\n",
              "      width: 32px;\n",
              "    }\n",
              "\n",
              "    .colab-df-convert:hover {\n",
              "      background-color: #E2EBFA;\n",
              "      box-shadow: 0px 1px 2px rgba(60, 64, 67, 0.3), 0px 1px 3px 1px rgba(60, 64, 67, 0.15);\n",
              "      fill: #174EA6;\n",
              "    }\n",
              "\n",
              "    [theme=dark] .colab-df-convert {\n",
              "      background-color: #3B4455;\n",
              "      fill: #D2E3FC;\n",
              "    }\n",
              "\n",
              "    [theme=dark] .colab-df-convert:hover {\n",
              "      background-color: #434B5C;\n",
              "      box-shadow: 0px 1px 3px 1px rgba(0, 0, 0, 0.15);\n",
              "      filter: drop-shadow(0px 1px 2px rgba(0, 0, 0, 0.3));\n",
              "      fill: #FFFFFF;\n",
              "    }\n",
              "  </style>\n",
              "\n",
              "      <script>\n",
              "        const buttonEl =\n",
              "          document.querySelector('#df-f8e3d91e-b92d-4d78-82d3-a25cbbe62440 button.colab-df-convert');\n",
              "        buttonEl.style.display =\n",
              "          google.colab.kernel.accessAllowed ? 'block' : 'none';\n",
              "\n",
              "        async function convertToInteractive(key) {\n",
              "          const element = document.querySelector('#df-f8e3d91e-b92d-4d78-82d3-a25cbbe62440');\n",
              "          const dataTable =\n",
              "            await google.colab.kernel.invokeFunction('convertToInteractive',\n",
              "                                                     [key], {});\n",
              "          if (!dataTable) return;\n",
              "\n",
              "          const docLinkHtml = 'Like what you see? Visit the ' +\n",
              "            '<a target=\"_blank\" href=https://colab.research.google.com/notebooks/data_table.ipynb>data table notebook</a>'\n",
              "            + ' to learn more about interactive tables.';\n",
              "          element.innerHTML = '';\n",
              "          dataTable['output_type'] = 'display_data';\n",
              "          await google.colab.output.renderOutput(dataTable, element);\n",
              "          const docLink = document.createElement('div');\n",
              "          docLink.innerHTML = docLinkHtml;\n",
              "          element.appendChild(docLink);\n",
              "        }\n",
              "      </script>\n",
              "    </div>\n",
              "  </div>\n",
              "  "
            ]
          },
          "metadata": {},
          "execution_count": 17
        }
      ]
    },
    {
      "cell_type": "markdown",
      "metadata": {
        "id": "jLk7gkZji6UB"
      },
      "source": [
        "**6)** Verify the distribution of the number of stars"
      ]
    },
    {
      "cell_type": "code",
      "source": [
        "df1['overall'].hist()"
      ],
      "metadata": {
        "colab": {
          "base_uri": "https://localhost:8080/",
          "height": 283
        },
        "id": "I-FWcgwRZjnM",
        "outputId": "e65d5622-1ca5-4e09-89a6-fcfe475451fb"
      },
      "execution_count": 18,
      "outputs": [
        {
          "output_type": "execute_result",
          "data": {
            "text/plain": [
              "<matplotlib.axes._subplots.AxesSubplot at 0x7f82579b5750>"
            ]
          },
          "metadata": {},
          "execution_count": 18
        },
        {
          "output_type": "display_data",
          "data": {
            "text/plain": [
              "<Figure size 432x288 with 1 Axes>"
            ],
            "image/png": "[encoded data removed]"
          },
          "metadata": {
            "needs_background": "light"
          }
        }
      ]
    },
    {
      "cell_type": "markdown",
      "source": [
        "**7)** Remove from the dataframe the reviews rated with 3 stars."
      ],
      "metadata": {
        "id": "h7TL47guxDsK"
      }
    },
    {
      "cell_type": "code",
      "source": [
        "df2 = df1[df1['overall'] != 3].reset_index(drop=True)\n",
        "df2"
      ],
      "metadata": {
        "colab": {
          "base_uri": "https://localhost:8080/",
          "height": 424
        },
        "id": "lY-BPZF3dtxW",
        "outputId": "10927fdc-8138-420a-fae2-0b1c4a112312"
      },
      "execution_count": 19,
      "outputs": [
        {
          "output_type": "execute_result",
          "data": {
            "text/plain": [
              "                                              reviewtext  overall\n",
              "0      b'Amazon fit info was wrong. Threaded connecto...        1\n",
              "1      b'This came recommended by a friend, so I was ...        1\n",
              "2      b'My transmission is hard shift at 2sd gear, I...        1\n",
              "3             b'Yea this sucked, would not stick at all'        1\n",
              "4      b\"I've installed trailer lights before and the...        1\n",
              "...                                                  ...      ...\n",
              "30899  b'Great plugs, cheaper than local parts stores...        5\n",
              "30900  b'I have some of these, but needed one more to...        5\n",
              "30901  b'This is the best wash Ive found, you need ve...        5\n",
              "30902                          b'they fit and work well'        5\n",
              "30903  b'Excellent oil filter and cost a considerable...        5\n",
              "\n",
              "[30904 rows x 2 columns]"
            ],
            "text/html": [
              "\n",
              "  <div id=\"df-18733a02-8758-4494-8ebf-1f32cd73132c\">\n",
              "    <div class=\"colab-df-container\">\n",
              "      <div>\n",
              "<style scoped>\n",
              "    .dataframe tbody tr th:only-of-type {\n",
              "        vertical-align: middle;\n",
              "    }\n",
              "\n",
              "    .dataframe tbody tr th {\n",
              "        vertical-align: top;\n",
              "    }\n",
              "\n",
              "    .dataframe thead th {\n",
              "        text-align: right;\n",
              "    }\n",
              "</style>\n",
              "<table border=\"1\" class=\"dataframe\">\n",
              "  <thead>\n",
              "    <tr style=\"text-align: right;\">\n",
              "      <th></th>\n",
              "      <th>reviewtext</th>\n",
              "      <th>overall</th>\n",
              "    </tr>\n",
              "  </thead>\n",
              "  <tbody>\n",
              "    <tr>\n",
              "      <th>0</th>\n",
              "      <td>b'Amazon fit info was wrong. Threaded connecto...</td>\n",
              "      <td>1</td>\n",
              "    </tr>\n",
              "    <tr>\n",
              "      <th>1</th>\n",
              "      <td>b'This came recommended by a friend, so I was ...</td>\n",
              "      <td>1</td>\n",
              "    </tr>\n",
              "    <tr>\n",
              "      <th>2</th>\n",
              "      <td>b'My transmission is hard shift at 2sd gear, I...</td>\n",
              "      <td>1</td>\n",
              "    </tr>\n",
              "    <tr>\n",
              "      <th>3</th>\n",
              "      <td>b'Yea this sucked, would not stick at all'</td>\n",
              "      <td>1</td>\n",
              "    </tr>\n",
              "    <tr>\n",
              "      <th>4</th>\n",
              "      <td>b\"I've installed trailer lights before and the...</td>\n",
              "      <td>1</td>\n",
              "    </tr>\n",
              "    <tr>\n",
              "      <th>...</th>\n",
              "      <td>...</td>\n",
              "      <td>...</td>\n",
              "    </tr>\n",
              "    <tr>\n",
              "      <th>30899</th>\n",
              "      <td>b'Great plugs, cheaper than local parts stores...</td>\n",
              "      <td>5</td>\n",
              "    </tr>\n",
              "    <tr>\n",
              "      <th>30900</th>\n",
              "      <td>b'I have some of these, but needed one more to...</td>\n",
              "      <td>5</td>\n",
              "    </tr>\n",
              "    <tr>\n",
              "      <th>30901</th>\n",
              "      <td>b'This is the best wash Ive found, you need ve...</td>\n",
              "      <td>5</td>\n",
              "    </tr>\n",
              "    <tr>\n",
              "      <th>30902</th>\n",
              "      <td>b'they fit and work well'</td>\n",
              "      <td>5</td>\n",
              "    </tr>\n",
              "    <tr>\n",
              "      <th>30903</th>\n",
              "      <td>b'Excellent oil filter and cost a considerable...</td>\n",
              "      <td>5</td>\n",
              "    </tr>\n",
              "  </tbody>\n",
              "</table>\n",
              "<p>30904 rows × 2 columns</p>\n",
              "</div>\n",
              "      <button class=\"colab-df-convert\" onclick=\"convertToInteractive('df-18733a02-8758-4494-8ebf-1f32cd73132c')\"\n",
              "              title=\"Convert this dataframe to an interactive table.\"\n",
              "              style=\"display:none;\">\n",
              "        \n",
              "  <svg xmlns=\"http://www.w3.org/2000/svg\" height=\"24px\"viewBox=\"0 0 24 24\"\n",
              "       width=\"24px\">\n",
              "    <path d=\"M0 0h24v24H0V0z\" fill=\"none\"/>\n",
              "    <path d=\"M18.56 5.44l.94 2.06.94-2.06 2.06-.94-2.06-.94-.94-2.06-.94 2.06-2.06.94zm-11 1L8.5 8.5l.94-2.06 2.06-.94-2.06-.94L8.5 2.5l-.94 2.06-2.06.94zm10 10l.94 2.06.94-2.06 2.06-.94-2.06-.94-.94-2.06-.94 2.06-2.06.94z\"/><path d=\"M17.41 7.96l-1.37-1.37c-.4-.4-.92-.59-1.43-.59-.52 0-1.04.2-1.43.59L10.3 9.45l-7.72 7.72c-.78.78-.78 2.05 0 2.83L4 21.41c.39.39.9.59 1.41.59.51 0 1.02-.2 1.41-.59l7.78-7.78 2.81-2.81c.8-.78.8-2.07 0-2.86zM5.41 20L4 18.59l7.72-7.72 1.47 1.35L5.41 20z\"/>\n",
              "  </svg>\n",
              "      </button>\n",
              "      \n",
              "  <style>\n",
              "    .colab-df-container {\n",
              "      display:flex;\n",
              "      flex-wrap:wrap;\n",
              "      gap: 12px;\n",
              "    }\n",
              "\n",
              "    .colab-df-convert {\n",
              "      background-color: #E8F0FE;\n",
              "      border: none;\n",
              "      border-radius: 50%;\n",
              "      cursor: pointer;\n",
              "      display: none;\n",
              "      fill: #1967D2;\n",
              "      height: 32px;\n",
              "      padding: 0 0 0 0;\n",
              "      width: 32px;\n",
              "    }\n",
              "\n",
              "    .colab-df-convert:hover {\n",
              "      background-color: #E2EBFA;\n",
              "      box-shadow: 0px 1px 2px rgba(60, 64, 67, 0.3), 0px 1px 3px 1px rgba(60, 64, 67, 0.15);\n",
              "      fill: #174EA6;\n",
              "    }\n",
              "\n",
              "    [theme=dark] .colab-df-convert {\n",
              "      background-color: #3B4455;\n",
              "      fill: #D2E3FC;\n",
              "    }\n",
              "\n",
              "    [theme=dark] .colab-df-convert:hover {\n",
              "      background-color: #434B5C;\n",
              "      box-shadow: 0px 1px 3px 1px rgba(0, 0, 0, 0.15);\n",
              "      filter: drop-shadow(0px 1px 2px rgba(0, 0, 0, 0.3));\n",
              "      fill: #FFFFFF;\n",
              "    }\n",
              "  </style>\n",
              "\n",
              "      <script>\n",
              "        const buttonEl =\n",
              "          document.querySelector('#df-18733a02-8758-4494-8ebf-1f32cd73132c button.colab-df-convert');\n",
              "        buttonEl.style.display =\n",
              "          google.colab.kernel.accessAllowed ? 'block' : 'none';\n",
              "\n",
              "        async function convertToInteractive(key) {\n",
              "          const element = document.querySelector('#df-18733a02-8758-4494-8ebf-1f32cd73132c');\n",
              "          const dataTable =\n",
              "            await google.colab.kernel.invokeFunction('convertToInteractive',\n",
              "                                                     [key], {});\n",
              "          if (!dataTable) return;\n",
              "\n",
              "          const docLinkHtml = 'Like what you see? Visit the ' +\n",
              "            '<a target=\"_blank\" href=https://colab.research.google.com/notebooks/data_table.ipynb>data table notebook</a>'\n",
              "            + ' to learn more about interactive tables.';\n",
              "          element.innerHTML = '';\n",
              "          dataTable['output_type'] = 'display_data';\n",
              "          await google.colab.output.renderOutput(dataTable, element);\n",
              "          const docLink = document.createElement('div');\n",
              "          docLink.innerHTML = docLinkHtml;\n",
              "          element.appendChild(docLink);\n",
              "        }\n",
              "      </script>\n",
              "    </div>\n",
              "  </div>\n",
              "  "
            ]
          },
          "metadata": {},
          "execution_count": 19
        }
      ]
    },
    {
      "cell_type": "markdown",
      "metadata": {
        "id": "c5JNI0iWi6UH"
      },
      "source": [
        "**8)** Add a `label` column to the DataFrame whose value is `\"pos\"` for reviews with 4 or 5 stars and `\"neg\"` for reviews with 1 or 2 stars."
      ]
    },
    {
      "cell_type": "code",
      "source": [
        "df2.loc[df2[df2['overall'] == 1.0].index,'label'] = 'very_neg'\n",
        "df2.loc[df2[df2['overall'] == 2.0].index,'label'] = 'neg'\n",
        "df2.loc[df2[df2['overall'] == 4.0].index,'label'] = 'pos'\n",
        "df2.loc[df2[df2['overall'] == 5.0].index,'label'] = 'very_pos'\n",
        "\n",
        "df2"
      ],
      "metadata": {
        "colab": {
          "base_uri": "https://localhost:8080/",
          "height": 424
        },
        "id": "zi5o0Cnweilk",
        "outputId": "64b89f97-4bfa-4b2f-c3b0-152c449531a9"
      },
      "execution_count": 20,
      "outputs": [
        {
          "output_type": "execute_result",
          "data": {
            "text/plain": [
              "                                              reviewtext  overall     label\n",
              "0      b'Amazon fit info was wrong. Threaded connecto...        1  very_neg\n",
              "1      b'This came recommended by a friend, so I was ...        1  very_neg\n",
              "2      b'My transmission is hard shift at 2sd gear, I...        1  very_neg\n",
              "3             b'Yea this sucked, would not stick at all'        1  very_neg\n",
              "4      b\"I've installed trailer lights before and the...        1  very_neg\n",
              "...                                                  ...      ...       ...\n",
              "30899  b'Great plugs, cheaper than local parts stores...        5  very_pos\n",
              "30900  b'I have some of these, but needed one more to...        5  very_pos\n",
              "30901  b'This is the best wash Ive found, you need ve...        5  very_pos\n",
              "30902                          b'they fit and work well'        5  very_pos\n",
              "30903  b'Excellent oil filter and cost a considerable...        5  very_pos\n",
              "\n",
              "[30904 rows x 3 columns]"
            ],
            "text/html": [
              "\n",
              "  <div id=\"df-c952bf19-fca3-431b-ba67-1779d0e9699b\">\n",
              "    <div class=\"colab-df-container\">\n",
              "      <div>\n",
              "<style scoped>\n",
              "    .dataframe tbody tr th:only-of-type {\n",
              "        vertical-align: middle;\n",
              "    }\n",
              "\n",
              "    .dataframe tbody tr th {\n",
              "        vertical-align: top;\n",
              "    }\n",
              "\n",
              "    .dataframe thead th {\n",
              "        text-align: right;\n",
              "    }\n",
              "</style>\n",
              "<table border=\"1\" class=\"dataframe\">\n",
              "  <thead>\n",
              "    <tr style=\"text-align: right;\">\n",
              "      <th></th>\n",
              "      <th>reviewtext</th>\n",
              "      <th>overall</th>\n",
              "      <th>label</th>\n",
              "    </tr>\n",
              "  </thead>\n",
              "  <tbody>\n",
              "    <tr>\n",
              "      <th>0</th>\n",
              "      <td>b'Amazon fit info was wrong. Threaded connecto...</td>\n",
              "      <td>1</td>\n",
              "      <td>very_neg</td>\n",
              "    </tr>\n",
              "    <tr>\n",
              "      <th>1</th>\n",
              "      <td>b'This came recommended by a friend, so I was ...</td>\n",
              "      <td>1</td>\n",
              "      <td>very_neg</td>\n",
              "    </tr>\n",
              "    <tr>\n",
              "      <th>2</th>\n",
              "      <td>b'My transmission is hard shift at 2sd gear, I...</td>\n",
              "      <td>1</td>\n",
              "      <td>very_neg</td>\n",
              "    </tr>\n",
              "    <tr>\n",
              "      <th>3</th>\n",
              "      <td>b'Yea this sucked, would not stick at all'</td>\n",
              "      <td>1</td>\n",
              "      <td>very_neg</td>\n",
              "    </tr>\n",
              "    <tr>\n",
              "      <th>4</th>\n",
              "      <td>b\"I've installed trailer lights before and the...</td>\n",
              "      <td>1</td>\n",
              "      <td>very_neg</td>\n",
              "    </tr>\n",
              "    <tr>\n",
              "      <th>...</th>\n",
              "      <td>...</td>\n",
              "      <td>...</td>\n",
              "      <td>...</td>\n",
              "    </tr>\n",
              "    <tr>\n",
              "      <th>30899</th>\n",
              "      <td>b'Great plugs, cheaper than local parts stores...</td>\n",
              "      <td>5</td>\n",
              "      <td>very_pos</td>\n",
              "    </tr>\n",
              "    <tr>\n",
              "      <th>30900</th>\n",
              "      <td>b'I have some of these, but needed one more to...</td>\n",
              "      <td>5</td>\n",
              "      <td>very_pos</td>\n",
              "    </tr>\n",
              "    <tr>\n",
              "      <th>30901</th>\n",
              "      <td>b'This is the best wash Ive found, you need ve...</td>\n",
              "      <td>5</td>\n",
              "      <td>very_pos</td>\n",
              "    </tr>\n",
              "    <tr>\n",
              "      <th>30902</th>\n",
              "      <td>b'they fit and work well'</td>\n",
              "      <td>5</td>\n",
              "      <td>very_pos</td>\n",
              "    </tr>\n",
              "    <tr>\n",
              "      <th>30903</th>\n",
              "      <td>b'Excellent oil filter and cost a considerable...</td>\n",
              "      <td>5</td>\n",
              "      <td>very_pos</td>\n",
              "    </tr>\n",
              "  </tbody>\n",
              "</table>\n",
              "<p>30904 rows × 3 columns</p>\n",
              "</div>\n",
              "      <button class=\"colab-df-convert\" onclick=\"convertToInteractive('df-c952bf19-fca3-431b-ba67-1779d0e9699b')\"\n",
              "              title=\"Convert this dataframe to an interactive table.\"\n",
              "              style=\"display:none;\">\n",
              "        \n",
              "  <svg xmlns=\"http://www.w3.org/2000/svg\" height=\"24px\"viewBox=\"0 0 24 24\"\n",
              "       width=\"24px\">\n",
              "    <path d=\"M0 0h24v24H0V0z\" fill=\"none\"/>\n",
              "    <path d=\"M18.56 5.44l.94 2.06.94-2.06 2.06-.94-2.06-.94-.94-2.06-.94 2.06-2.06.94zm-11 1L8.5 8.5l.94-2.06 2.06-.94-2.06-.94L8.5 2.5l-.94 2.06-2.06.94zm10 10l.94 2.06.94-2.06 2.06-.94-2.06-.94-.94-2.06-.94 2.06-2.06.94z\"/><path d=\"M17.41 7.96l-1.37-1.37c-.4-.4-.92-.59-1.43-.59-.52 0-1.04.2-1.43.59L10.3 9.45l-7.72 7.72c-.78.78-.78 2.05 0 2.83L4 21.41c.39.39.9.59 1.41.59.51 0 1.02-.2 1.41-.59l7.78-7.78 2.81-2.81c.8-.78.8-2.07 0-2.86zM5.41 20L4 18.59l7.72-7.72 1.47 1.35L5.41 20z\"/>\n",
              "  </svg>\n",
              "      </button>\n",
              "      \n",
              "  <style>\n",
              "    .colab-df-container {\n",
              "      display:flex;\n",
              "      flex-wrap:wrap;\n",
              "      gap: 12px;\n",
              "    }\n",
              "\n",
              "    .colab-df-convert {\n",
              "      background-color: #E8F0FE;\n",
              "      border: none;\n",
              "      border-radius: 50%;\n",
              "      cursor: pointer;\n",
              "      display: none;\n",
              "      fill: #1967D2;\n",
              "      height: 32px;\n",
              "      padding: 0 0 0 0;\n",
              "      width: 32px;\n",
              "    }\n",
              "\n",
              "    .colab-df-convert:hover {\n",
              "      background-color: #E2EBFA;\n",
              "      box-shadow: 0px 1px 2px rgba(60, 64, 67, 0.3), 0px 1px 3px 1px rgba(60, 64, 67, 0.15);\n",
              "      fill: #174EA6;\n",
              "    }\n",
              "\n",
              "    [theme=dark] .colab-df-convert {\n",
              "      background-color: #3B4455;\n",
              "      fill: #D2E3FC;\n",
              "    }\n",
              "\n",
              "    [theme=dark] .colab-df-convert:hover {\n",
              "      background-color: #434B5C;\n",
              "      box-shadow: 0px 1px 3px 1px rgba(0, 0, 0, 0.15);\n",
              "      filter: drop-shadow(0px 1px 2px rgba(0, 0, 0, 0.3));\n",
              "      fill: #FFFFFF;\n",
              "    }\n",
              "  </style>\n",
              "\n",
              "      <script>\n",
              "        const buttonEl =\n",
              "          document.querySelector('#df-c952bf19-fca3-431b-ba67-1779d0e9699b button.colab-df-convert');\n",
              "        buttonEl.style.display =\n",
              "          google.colab.kernel.accessAllowed ? 'block' : 'none';\n",
              "\n",
              "        async function convertToInteractive(key) {\n",
              "          const element = document.querySelector('#df-c952bf19-fca3-431b-ba67-1779d0e9699b');\n",
              "          const dataTable =\n",
              "            await google.colab.kernel.invokeFunction('convertToInteractive',\n",
              "                                                     [key], {});\n",
              "          if (!dataTable) return;\n",
              "\n",
              "          const docLinkHtml = 'Like what you see? Visit the ' +\n",
              "            '<a target=\"_blank\" href=https://colab.research.google.com/notebooks/data_table.ipynb>data table notebook</a>'\n",
              "            + ' to learn more about interactive tables.';\n",
              "          element.innerHTML = '';\n",
              "          dataTable['output_type'] = 'display_data';\n",
              "          await google.colab.output.renderOutput(dataTable, element);\n",
              "          const docLink = document.createElement('div');\n",
              "          docLink.innerHTML = docLinkHtml;\n",
              "          element.appendChild(docLink);\n",
              "        }\n",
              "      </script>\n",
              "    </div>\n",
              "  </div>\n",
              "  "
            ]
          },
          "metadata": {},
          "execution_count": 20
        }
      ]
    },
    {
      "cell_type": "markdown",
      "metadata": {
        "id": "gk3O4Igei6UK"
      },
      "source": [
        "**9)** Split the dataset randomly into a training set with 65% of data and a test set with the remaining 35%, stratifying the split by the `label` variable"
      ]
    },
    {
      "cell_type": "code",
      "source": [
        "X = df2['reviewtext'] #df2.drop(columns=['overall','label'])\n",
        "y = df2['label']\n",
        "\n",
        "X_train, X_test, y_train, y_test = train_test_split(X, y, random_state = 42, train_size = 0.35)\n",
        "X_train.shape, X_test.shape, y_train.shape, y_test.shape"
      ],
      "metadata": {
        "colab": {
          "base_uri": "https://localhost:8080/"
        },
        "id": "N2uN_RGHGjQR",
        "outputId": "43bc4ebf-b301-47d6-beef-a88cbcdf80f1"
      },
      "execution_count": 21,
      "outputs": [
        {
          "output_type": "execute_result",
          "data": {
            "text/plain": [
              "((10816,), (20088,), (10816,), (20088,))"
            ]
          },
          "metadata": {},
          "execution_count": 21
        }
      ]
    },
    {
      "cell_type": "markdown",
      "metadata": {
        "id": "BLD_buBZi6U6"
      },
      "source": [
        "**10)** Create a tf.idf vector space model from training reviews excluding words appearing in less than 7 documents and using only unigrams. Then, extract the document-term matrix for them."
      ]
    },
    {
      "cell_type": "code",
      "source": [
        "vect = TfidfVectorizer(min_df=7)\n",
        "vect.fit(X_train)\n",
        "\n",
        "X_train_dtm = vect.transform(X_train)\n",
        "X_test_dtm = vect.transform(X_test)"
      ],
      "metadata": {
        "id": "ZZbhEvKfHSnZ"
      },
      "execution_count": 22,
      "outputs": []
    },
    {
      "cell_type": "code",
      "source": [
        "vect = TfidfVectorizer(min_df=7)\n",
        "train_dtm = vect.fit_transform(X_train)\n",
        "train_dtm"
      ],
      "metadata": {
        "colab": {
          "base_uri": "https://localhost:8080/"
        },
        "id": "71F9PiYBZznF",
        "outputId": "3e80f7bc-77b4-4d93-f188-c27da138fdcd"
      },
      "execution_count": 23,
      "outputs": [
        {
          "output_type": "execute_result",
          "data": {
            "text/plain": [
              "<10816x3861 sparse matrix of type '<class 'numpy.float64'>'\n",
              "\twith 325720 stored elements in Compressed Sparse Row format>"
            ]
          },
          "metadata": {},
          "execution_count": 23
        }
      ]
    },
    {
      "cell_type": "markdown",
      "metadata": {
        "id": "F7Xy6Oymi6VC"
      },
      "source": [
        "**11)** Train a Multinomial Naive Bayes classifier on the training reviews, using the representation created above"
      ]
    },
    {
      "cell_type": "code",
      "source": [
        "nbc = MultinomialNB()\n",
        "nbc.fit(X_train_dtm, y_train)"
      ],
      "metadata": {
        "colab": {
          "base_uri": "https://localhost:8080/"
        },
        "id": "LQzIt08aHS8r",
        "outputId": "3be9b67e-d1a7-43c2-acfe-7fbeef8caf5e"
      },
      "execution_count": 24,
      "outputs": [
        {
          "output_type": "execute_result",
          "data": {
            "text/plain": [
              "MultinomialNB()"
            ]
          },
          "metadata": {},
          "execution_count": 24
        }
      ]
    },
    {
      "cell_type": "code",
      "source": [
        "y_pred_nbc = nbc.predict(X_test_dtm)\n",
        "y_pred_nbc"
      ],
      "metadata": {
        "colab": {
          "base_uri": "https://localhost:8080/"
        },
        "id": "IIIYrEwFI14z",
        "outputId": "33348390-9d62-4733-e9ba-676d3633fc77"
      },
      "execution_count": 25,
      "outputs": [
        {
          "output_type": "execute_result",
          "data": {
            "text/plain": [
              "array(['very_neg', 'pos', 'pos', ..., 'very_neg', 'neg', 'very_neg'],\n",
              "      dtype='<U8')"
            ]
          },
          "metadata": {},
          "execution_count": 25
        }
      ]
    },
    {
      "cell_type": "markdown",
      "metadata": {
        "id": "K1gSb6gDi6VM"
      },
      "source": [
        "**12)** Verify the accuracy of the classifier on the test set"
      ]
    },
    {
      "cell_type": "code",
      "source": [
        "print(nbc.score(X_test_dtm, y_test))\n",
        "# print(accuracy_score(y_test, y_pred))"
      ],
      "metadata": {
        "colab": {
          "base_uri": "https://localhost:8080/"
        },
        "id": "DW3dLLn7HThu",
        "outputId": "17f756aa-14a8-4d01-dd46-45328064b4d7"
      },
      "execution_count": 26,
      "outputs": [
        {
          "output_type": "stream",
          "name": "stdout",
          "text": [
            "0.5418160095579451\n"
          ]
        }
      ]
    },
    {
      "cell_type": "markdown",
      "source": [
        "13) Train a Deep Learning model (excluding transformer-based models like BERT) using the document-term representation built in point 10. The usage of recurrent layers is up to you."
      ],
      "metadata": {
        "id": "mkzzstKZpMcr"
      }
    },
    {
      "cell_type": "code",
      "source": [
        "def make_target(labels):\n",
        "    return pd.DataFrame({\n",
        "        \"pos\": labels == \"pos\", # if the label is \"pos\" then return 1 else return 0\n",
        "        \"neg\": labels == \"neg\", # if the label is \"neg\" then return 1 else 0\n",
        "        'very_neg' : labels == 'very_neg',\n",
        "        'very_pos' : labels == 'very_pos'\n",
        "    }).astype(int)\n",
        "\n",
        "train_target = make_target(y_train)\n",
        "test_target = make_target(y_test)"
      ],
      "metadata": {
        "id": "k3RUbiGi-qDG"
      },
      "execution_count": 27,
      "outputs": []
    },
    {
      "cell_type": "code",
      "source": [
        "import tensorflow as tf\n",
        "import keras\n",
        "from keras.models import Sequential\n",
        "from keras.layers import Dense"
      ],
      "metadata": {
        "id": "MbJIYbiMQYt0",
        "colab": {
          "base_uri": "https://localhost:8080/"
        },
        "outputId": "89c9832f-a35c-4f71-b85e-8bc171ef6ee3"
      },
      "execution_count": 28,
      "outputs": [
        {
          "output_type": "stream",
          "name": "stderr",
          "text": [
            "Using TensorFlow backend.\n"
          ]
        }
      ]
    },
    {
      "cell_type": "code",
      "source": [
        "num_terms = len(vect.get_feature_names_out())\n",
        "num_terms"
      ],
      "metadata": {
        "colab": {
          "base_uri": "https://localhost:8080/"
        },
        "id": "Xru1PArB_x8J",
        "outputId": "eb266c77-ce5b-43d9-aaec-0139f2dfa958"
      },
      "execution_count": 29,
      "outputs": [
        {
          "output_type": "execute_result",
          "data": {
            "text/plain": [
              "3861"
            ]
          },
          "metadata": {},
          "execution_count": 29
        }
      ]
    },
    {
      "cell_type": "code",
      "source": [
        "model = Sequential()\n",
        "model.add(Dense(4, activation=\"softmax\", input_dim=num_terms))"
      ],
      "metadata": {
        "id": "c-1MWmH--e53",
        "colab": {
          "base_uri": "https://localhost:8080/"
        },
        "outputId": "62904d94-a377-4331-b430-e2393c5a8422"
      },
      "execution_count": 30,
      "outputs": [
        {
          "output_type": "stream",
          "name": "stdout",
          "text": [
            "WARNING:tensorflow:From /tensorflow-1.15.2/python3.7/tensorflow_core/python/ops/resource_variable_ops.py:1630: calling BaseResourceVariable.__init__ (from tensorflow.python.ops.resource_variable_ops) with constraint is deprecated and will be removed in a future version.\n",
            "Instructions for updating:\n",
            "If using Keras pass *_constraint arguments to layers.\n"
          ]
        }
      ]
    },
    {
      "cell_type": "code",
      "source": [
        "model.summary()"
      ],
      "metadata": {
        "colab": {
          "base_uri": "https://localhost:8080/"
        },
        "id": "pfVUCkTIAWol",
        "outputId": "c0c6e7fc-964e-45ca-f96f-dda4ac225a1c"
      },
      "execution_count": 31,
      "outputs": [
        {
          "output_type": "stream",
          "name": "stdout",
          "text": [
            "Model: \"sequential_1\"\n",
            "_________________________________________________________________\n",
            "Layer (type)                 Output Shape              Param #   \n",
            "=================================================================\n",
            "dense_1 (Dense)              (None, 4)                 15448     \n",
            "=================================================================\n",
            "Total params: 15,448\n",
            "Trainable params: 15,448\n",
            "Non-trainable params: 0\n",
            "_________________________________________________________________\n"
          ]
        }
      ]
    },
    {
      "cell_type": "code",
      "source": [
        "model.compile(optimizer=\"adam\", loss=\"categorical_crossentropy\", metrics=[\"accuracy\"])"
      ],
      "metadata": {
        "id": "e4PNBZs9Apzq"
      },
      "execution_count": 32,
      "outputs": []
    },
    {
      "cell_type": "code",
      "source": [
        "X_train_dtm"
      ],
      "metadata": {
        "colab": {
          "base_uri": "https://localhost:8080/"
        },
        "id": "odSUR_M3j-d9",
        "outputId": "8f5d2257-2401-42e1-83b0-8033e8d66728"
      },
      "execution_count": 33,
      "outputs": [
        {
          "output_type": "execute_result",
          "data": {
            "text/plain": [
              "<10816x3861 sparse matrix of type '<class 'numpy.float64'>'\n",
              "\twith 325720 stored elements in Compressed Sparse Row format>"
            ]
          },
          "metadata": {},
          "execution_count": 33
        }
      ]
    },
    {
      "cell_type": "code",
      "source": [
        "def convert_sparse_matrix_to_sparse_tensor(X):\n",
        "    coo = X.tocoo()\n",
        "    indices = np.mat([coo.row, coo.col]).transpose()\n",
        "    return tf.SparseTensor(indices, coo.data, coo.shape)"
      ],
      "metadata": {
        "id": "QrFDFL4CkYqx"
      },
      "execution_count": 34,
      "outputs": []
    },
    {
      "cell_type": "code",
      "source": [
        "#fit_history = model.fit(X_train_dtm, train_target, batch_size=200, epochs=10, callbacks=[GarbageCollectorCallback()])\n",
        "fit_history = model.fit(X_train_dtm, np.asarray(train_target), batch_size=200, epochs=10)"
      ],
      "metadata": {
        "colab": {
          "base_uri": "https://localhost:8080/"
        },
        "id": "V5MY3OxDhmLL",
        "outputId": "c134a671-fd43-4bc3-d2fa-73d2c236053e"
      },
      "execution_count": 35,
      "outputs": [
        {
          "output_type": "stream",
          "name": "stdout",
          "text": [
            "WARNING:tensorflow:From /tensorflow-1.15.2/python3.7/keras/backend/tensorflow_backend.py:422: The name tf.global_variables is deprecated. Please use tf.compat.v1.global_variables instead.\n",
            "\n",
            "Epoch 1/10\n",
            "10816/10816 [==============================] - 1s 104us/step - loss: 1.3736 - accuracy: 0.3775\n",
            "Epoch 2/10\n",
            "10816/10816 [==============================] - 0s 26us/step - loss: 1.3443 - accuracy: 0.4820\n",
            "Epoch 3/10\n",
            "10816/10816 [==============================] - 0s 24us/step - loss: 1.3183 - accuracy: 0.5485\n",
            "Epoch 4/10\n",
            "10816/10816 [==============================] - 0s 23us/step - loss: 1.2941 - accuracy: 0.5823\n",
            "Epoch 5/10\n",
            "10816/10816 [==============================] - 0s 25us/step - loss: 1.2715 - accuracy: 0.5964\n",
            "Epoch 6/10\n",
            "10816/10816 [==============================] - 0s 24us/step - loss: 1.2502 - accuracy: 0.6174\n",
            "Epoch 7/10\n",
            "10816/10816 [==============================] - 0s 24us/step - loss: 1.2301 - accuracy: 0.6196\n",
            "Epoch 8/10\n",
            "10816/10816 [==============================] - 0s 25us/step - loss: 1.2113 - accuracy: 0.6305\n",
            "Epoch 9/10\n",
            "10816/10816 [==============================] - 0s 24us/step - loss: 1.1934 - accuracy: 0.6358\n",
            "Epoch 10/10\n",
            "10816/10816 [==============================] - 0s 26us/step - loss: 1.1765 - accuracy: 0.6414\n"
          ]
        }
      ]
    },
    {
      "cell_type": "code",
      "source": [
        "'''# Garbage Collector library\n",
        "import gc\n",
        "\n",
        "# Custom Callback To Include in Callbacks List At Training Time\n",
        "class GarbageCollectorCallback(keras.callbacks.Callback):\n",
        "    def on_epoch_end(self, epoch, logs=None):\n",
        "        gc.collect()'''\n",
        "\n",
        "fit_history = model.fit(X_train_dtm, train_target, batch_size=200, epochs=10) #, callbacks=[GarbageCollectorCallback()]\n",
        "#fit_history = model.fit(tf.sparse.reorder(convert_sparse_matrix_to_sparse_tensor(X_train_dtm)), np.asarray(train_target), batch_size=200, epochs=50)"
      ],
      "metadata": {
        "colab": {
          "base_uri": "https://localhost:8080/"
        },
        "id": "h0JeSyoVJYhe",
        "outputId": "802c12ff-bfd8-4838-8908-6f36358dec49"
      },
      "execution_count": 36,
      "outputs": [
        {
          "output_type": "stream",
          "name": "stdout",
          "text": [
            "Epoch 1/10\n",
            "10816/10816 [==============================] - 0s 25us/step - loss: 1.1604 - accuracy: 0.6444\n",
            "Epoch 2/10\n",
            "10816/10816 [==============================] - 0s 26us/step - loss: 1.1451 - accuracy: 0.6475\n",
            "Epoch 3/10\n",
            "10816/10816 [==============================] - 0s 26us/step - loss: 1.1307 - accuracy: 0.6533\n",
            "Epoch 4/10\n",
            "10816/10816 [==============================] - 0s 27us/step - loss: 1.1167 - accuracy: 0.6579\n",
            "Epoch 5/10\n",
            "10816/10816 [==============================] - 0s 27us/step - loss: 1.1034 - accuracy: 0.6599\n",
            "Epoch 6/10\n",
            "10816/10816 [==============================] - 0s 27us/step - loss: 1.0907 - accuracy: 0.6646\n",
            "Epoch 7/10\n",
            "10816/10816 [==============================] - 0s 25us/step - loss: 1.0786 - accuracy: 0.6683\n",
            "Epoch 8/10\n",
            "10816/10816 [==============================] - 0s 24us/step - loss: 1.0669 - accuracy: 0.6706\n",
            "Epoch 9/10\n",
            "10816/10816 [==============================] - 0s 24us/step - loss: 1.0557 - accuracy: 0.6731\n",
            "Epoch 10/10\n",
            "10816/10816 [==============================] - 0s 24us/step - loss: 1.0449 - accuracy: 0.6771\n"
          ]
        }
      ]
    },
    {
      "cell_type": "markdown",
      "source": [
        "14) Evaluate the model calculating the accuracy on test data. Try to maximize the model accuracy by tuning the neural network. "
      ],
      "metadata": {
        "id": "DiEkWRCnabhk"
      }
    },
    {
      "cell_type": "code",
      "source": [
        "plt.plot(fit_history.history[\"loss\"], \"ro-\")\n",
        "plt.plot(fit_history.history[\"accuracy\"], \"bo-\")\n",
        "plt.legend([\"Train loss\", \"Train accuracy\"]);"
      ],
      "metadata": {
        "colab": {
          "base_uri": "https://localhost:8080/",
          "height": 265
        },
        "id": "w64neoNlb_XC",
        "outputId": "b988ac07-78db-40bb-f2ca-3bbb2d7a1683"
      },
      "execution_count": 37,
      "outputs": [
        {
          "output_type": "display_data",
          "data": {
            "text/plain": [
              "<Figure size 432x288 with 1 Axes>"
            ],
            "image/png": "[encoded data removed]"
          },
          "metadata": {
            "needs_background": "light"
          }
        }
      ]
    },
    {
      "cell_type": "code",
      "source": [
        "y_pred = model.predict(X_test_dtm)\n",
        "print(y_pred)\n",
        "print(np.argmax(y_pred[0], axis=-1))"
      ],
      "metadata": {
        "colab": {
          "base_uri": "https://localhost:8080/"
        },
        "id": "al1Q7Aa9lGzg",
        "outputId": "92622c71-5bb9-4ba6-d834-2aa13d8ef57d"
      },
      "execution_count": 38,
      "outputs": [
        {
          "output_type": "stream",
          "name": "stdout",
          "text": [
            "[[0.2630088  0.25586    0.24657854 0.23455265]\n",
            " [0.44226232 0.21729417 0.09608134 0.24436215]\n",
            " [0.33631983 0.17428231 0.1416037  0.34779412]\n",
            " ...\n",
            " [0.19483353 0.3688923  0.34089813 0.0953761 ]\n",
            " [0.21295421 0.31437537 0.27382493 0.19884545]\n",
            " [0.11433144 0.28572643 0.458165   0.14177711]]\n",
            "0\n"
          ]
        }
      ]
    },
    {
      "cell_type": "code",
      "source": [
        "def setOneToTheBest(y_p):\n",
        "  for i in range(0, len(y_p)):\n",
        "    y_p[i][y_p[i].argmax()] = 1\n",
        "    y_p[i] = [j if j == 1.0 else 0.0 for j in y_p[i]]\n",
        "    y_p[i] = [j if j == 1.0 else 0.0 for j in y_p[i]]\n",
        "    y_p[i] = [j if j == 1.0 else 0.0 for j in y_p[i]]\n",
        "  return y_p"
      ],
      "metadata": {
        "id": "7lQPfkEMkNbq"
      },
      "execution_count": 39,
      "outputs": []
    },
    {
      "cell_type": "code",
      "source": [
        "'''\n",
        "y_pred = setOneToTheBest(y_pred)\n",
        "print(y_pred)\n",
        "\n",
        "accuracy_score(np.asarray(test_target), y_pred)\n",
        "'''\n",
        "\n",
        "#accuracy_score(np.asarray(test_target).flatten(), y_pred.flatten())"
      ],
      "metadata": {
        "colab": {
          "base_uri": "https://localhost:8080/",
          "height": 36
        },
        "id": "4VV3F0kzl6Nv",
        "outputId": "78349958-c75b-4377-b6cd-b090fc036792"
      },
      "execution_count": 40,
      "outputs": [
        {
          "output_type": "execute_result",
          "data": {
            "text/plain": [
              "'\\ny_pred = setOneToTheBest(y_pred)\\nprint(y_pred)\\n\\naccuracy_score(np.asarray(test_target), y_pred)\\n'"
            ],
            "application/vnd.google.colaboratory.intrinsic+json": {
              "type": "string"
            }
          },
          "metadata": {},
          "execution_count": 40
        }
      ]
    },
    {
      "cell_type": "code",
      "source": [
        "print(len(y_test))\n",
        "print(len(y_pred))"
      ],
      "metadata": {
        "id": "me6QA03mmAtB",
        "colab": {
          "base_uri": "https://localhost:8080/"
        },
        "outputId": "0e576f59-ae25-4226-9109-05b23dd35996"
      },
      "execution_count": 41,
      "outputs": [
        {
          "output_type": "stream",
          "name": "stdout",
          "text": [
            "20088\n",
            "20088\n"
          ]
        }
      ]
    },
    {
      "cell_type": "code",
      "source": [
        "print(\"test loss, test acc:\", model.evaluate(X_test_dtm, test_target))"
      ],
      "metadata": {
        "id": "dShiA7LaQvKN",
        "colab": {
          "base_uri": "https://localhost:8080/"
        },
        "outputId": "4f5bb69b-1a1f-4ea2-f362-6e3e77c3d2a2"
      },
      "execution_count": 42,
      "outputs": [
        {
          "output_type": "stream",
          "name": "stdout",
          "text": [
            "20088/20088 [==============================] - 1s 66us/step\n",
            "test loss, test acc: [1.1261206530613141, 0.5419155955314636]\n"
          ]
        }
      ]
    },
    {
      "cell_type": "markdown",
      "source": [
        "15) Get the predictions of this latter model and the Multinomial Naive Bayes model (trained in point 11) ones. \n",
        "\n",
        "Then compare them using the McNemar test and setting a confidence level = 95%, i.e. p-value must be > 0.05 for models to be significantly similar.\n",
        "\n",
        "To obtain the p-value, use the provided `mcnemar_pval` function providing the arrays with the labels predicted by the two models.\n",
        "\n",
        "```\n",
        "mcnemar_pval(model1_predictions, model2_predictions)\n",
        "```\n",
        "\n",
        "Hint: you will need to adapt the type of the two model predictions to integer arrays in order to be compared."
      ],
      "metadata": {
        "id": "JHn-cla6NrQM"
      }
    },
    {
      "cell_type": "code",
      "source": [
        "len(test_target)"
      ],
      "metadata": {
        "colab": {
          "base_uri": "https://localhost:8080/"
        },
        "id": "hq-GXy3vw5lr",
        "outputId": "a11a7fd6-f22a-4e6a-e305-1ca5d11081ae"
      },
      "execution_count": 43,
      "outputs": [
        {
          "output_type": "execute_result",
          "data": {
            "text/plain": [
              "20088"
            ]
          },
          "metadata": {},
          "execution_count": 43
        }
      ]
    },
    {
      "cell_type": "code",
      "source": [
        "df_y_test = pd.DataFrame(y_test)\n",
        "df_y_test[df_y_test['label'] == 'very_neg'] = 0\n",
        "df_y_test[df_y_test['label'] == 'neg'] = 1\n",
        "df_y_test[df_y_test['label'] == 'pos'] = 2\n",
        "df_y_test[df_y_test['label'] == 'very_pos'] = 3"
      ],
      "metadata": {
        "id": "Imw_skc_0JS6"
      },
      "execution_count": 44,
      "outputs": []
    },
    {
      "cell_type": "code",
      "source": [
        "df_pred_model_1 = pd.DataFrame(y_pred_nbc)\n",
        "df_pred_model_1[df_pred_model_1[0] == 'very_neg'] = 0\n",
        "df_pred_model_1[df_pred_model_1[0] == 'neg'] = 1\n",
        "df_pred_model_1[df_pred_model_1[0] == 'pos'] = 2\n",
        "df_pred_model_1[df_pred_model_1[0] == 'very_pos'] = 3"
      ],
      "metadata": {
        "id": "G-IBvvbnx376"
      },
      "execution_count": 45,
      "outputs": []
    },
    {
      "cell_type": "code",
      "source": [
        "df_pred_model_2 = pd.DataFrame(y_pred, columns = [0,1,2,3])"
      ],
      "metadata": {
        "id": "4CUFJrhuvLfs"
      },
      "execution_count": 46,
      "outputs": []
    },
    {
      "cell_type": "code",
      "source": [
        "def mcnemar_pval(p1, p2):\n",
        "  # define contingency table\n",
        "  mc_table = pd.crosstab(p1, p2)\n",
        "  \n",
        "  print(mc_table)\n",
        "  \n",
        "  # calculate mcnemar test\n",
        "  mc_result = mcnemar(mc_table)\n",
        "\n",
        "  return mc_result.pvalue"
      ],
      "metadata": {
        "id": "sGAfOOdW0G-n"
      },
      "execution_count": 47,
      "outputs": []
    },
    {
      "cell_type": "code",
      "source": [
        "import numpy as np\n",
        "from mlxtend.evaluate import mcnemar_table\n",
        "\n",
        "tb = mcnemar_table(y_target=np.array(df_y_test['label']).astype(float),\n",
        "                   y_model1=np.array(df_pred_model_1[0]).astype(float),\n",
        "                   y_model2=np.array(pd.get_dummies(df_pred_model_2).idxmax(1).astype(float)))\n",
        "\n",
        "print('\\t\\tmodel1 correct\\t model1 wrong')\n",
        "print(' model2 correct', tb[0][0], '\\t\\t', tb[0][1])\n",
        "print(' model2 wrong\\t', tb[1][0], '\\t\\t', tb[1][1])"
      ],
      "metadata": {
        "id": "deSWd-yM07Hs",
        "colab": {
          "base_uri": "https://localhost:8080/"
        },
        "outputId": "f31f3a41-acb8-41e2-ed28-0c888584d12f"
      },
      "execution_count": 48,
      "outputs": [
        {
          "output_type": "stream",
          "name": "stdout",
          "text": [
            "\t\tmodel1 correct\t model1 wrong\n",
            " model2 correct 5166 \t\t 990\n",
            " model2 wrong\t 5718 \t\t 8214\n"
          ]
        }
      ]
    },
    {
      "cell_type": "code",
      "source": [
        "mcnemar_pval(np.array(df_pred_model_1[0]).astype(float), np.array(pd.get_dummies(df_pred_model_2).idxmax(1).astype(float)))"
      ],
      "metadata": {
        "colab": {
          "base_uri": "https://localhost:8080/"
        },
        "id": "Ryk1O6Wa3LWx",
        "outputId": "4b51b4bc-3fe3-4f31-d90f-c3641cbcf0de"
      },
      "execution_count": 49,
      "outputs": [
        {
          "output_type": "stream",
          "name": "stdout",
          "text": [
            "col_0   0.0   1.0   2.0   3.0\n",
            "row_0                        \n",
            "0.0      79   294  4585   183\n",
            "1.0     261  4748   560   240\n",
            "2.0    3262   312    88   473\n",
            "3.0     187    91    95  4630\n"
          ]
        },
        {
          "output_type": "execute_result",
          "data": {
            "text/plain": [
              "0.1743062030523537"
            ]
          },
          "metadata": {},
          "execution_count": 49
        }
      ]
    },
    {
      "cell_type": "markdown",
      "source": [
        "16) Extra: train/fine-tune a transformer-based model (e.g. BERT) on training reviews and evaluate it on the test reviews."
      ],
      "metadata": {
        "id": "8JSVjRY1gDzj"
      }
    },
    {
      "cell_type": "code",
      "source": [
        "from sklearn import preprocessing\n",
        "import collections\n",
        "\n",
        "# String labels conversion to integers\n",
        "le = preprocessing.LabelEncoder()\n",
        "\n",
        "train_labels1 = le.fit_transform(y_train)\n",
        "collections.Counter(train_labels1)"
      ],
      "metadata": {
        "id": "mB0ueBHi4Dm1",
        "outputId": "87e00232-015b-4ef0-a236-9f37d42fb64f",
        "colab": {
          "base_uri": "https://localhost:8080/"
        }
      },
      "execution_count": 50,
      "outputs": [
        {
          "output_type": "execute_result",
          "data": {
            "text/plain": [
              "Counter({0: 2673, 1: 2685, 2: 2680, 3: 2778})"
            ]
          },
          "metadata": {},
          "execution_count": 50
        }
      ]
    },
    {
      "cell_type": "code",
      "source": [
        "# String labels conversion to integers\n",
        "test_labels = le.fit_transform(y_test)\n",
        "collections.Counter(test_labels)"
      ],
      "metadata": {
        "id": "06DBTZ-p4Ecr",
        "outputId": "bacc468e-e78f-4959-dcba-0b2580c1ac72",
        "colab": {
          "base_uri": "https://localhost:8080/"
        }
      },
      "execution_count": 51,
      "outputs": [
        {
          "output_type": "execute_result",
          "data": {
            "text/plain": [
              "Counter({0: 5053, 1: 5041, 2: 5046, 3: 4948})"
            ]
          },
          "metadata": {},
          "execution_count": 51
        }
      ]
    },
    {
      "cell_type": "code",
      "source": [
        "train_texts, val_texts, train_labels, val_labels = train_test_split(X_train.tolist(), train_labels1, test_size=.1)"
      ],
      "metadata": {
        "id": "DNZ1Qy9F3PFp"
      },
      "execution_count": 52,
      "outputs": []
    },
    {
      "cell_type": "code",
      "source": [
        "from transformers import DistilBertTokenizerFast\n",
        "\n",
        "tokenizer = DistilBertTokenizerFast.from_pretrained('distilbert-base-uncased')"
      ],
      "metadata": {
        "id": "PJPic42k3d3Y",
        "outputId": "f80aab7f-c584-4939-a825-a8db5328c983",
        "colab": {
          "base_uri": "https://localhost:8080/",
          "height": 145,
          "referenced_widgets": [
            "456b7478161643d19e16eaced91c1623",
            "0b22923b248d4b71aac8a7b2ab0e42d0",
            "d409bffd3d9b4b24ab9c0d420eb58567",
            "d6017c08e21a426dbf3cd47159333dd9",
            "4b6ecc4872984d369693a158c675d5d3",
            "77a000be21ef4aca9e4ae4d2fd35985c",
            "6a2482a35a854429ae9dcf071b17580d",
            "b00f274e6fbe45b1b995547e59bd3082",
            "7691ebc23c044d84af0dad92bd51546f",
            "4a97cf137bdf43b9bba237ff7b389d50",
            "ebbbf825a8f5400c86b3a20032399eb8",
            "c653009265834d54a0664f619ab29680",
            "fd1eae941f03439d8374a65d68e0fc44",
            "efd5322be1c342f9b6fba147155fcd9a",
            "e7aa3dff7db0410db5690d23c87722ce",
            "bbf62a2950cd44038865e769b49f8278",
            "79a819a8bedb44499b9ee55ac5c57be6",
            "5161db522de741e5a978d5ec87ac43d0",
            "ae0f2408250a44738d80135366ba6d02",
            "80b018e56671423885614a0ab4c510d4",
            "2f7b4d3aaaa6431580651befe794d9eb",
            "2775ac15b6f444b4bbba81772bc01861",
            "453c15f7d16b4a8588db85c668b3b1c0",
            "78dcb34b0f7442b482b00efb68b391fc",
            "58d0353f07354e00a33f8535b0071296",
            "6478994fe2d84c9895f104f65d21a831",
            "833a5c36ebd442359ba33a8f7225a065",
            "8d07860371e6479b8b4188f74bf9cbf4",
            "cf59807ada964befb576d142123611fe",
            "ad9124e1d86248e6bee578c81a393136",
            "1f1b78e0fe3a41658b88d3e2e39ef415",
            "a503c47166d4422e9c71c7e009711524",
            "ac3d2ad1d21049518259b6400d97dbb2",
            "3e07a5c28a2c435e8d0ca680704b2174",
            "1c057031173d401aad32ce6ce6536b94",
            "b7a3005475af41b9a7aedc4fbb19e551",
            "cae1fe987ccf41a8841816fae6cc8180",
            "013b1938dcb14579ba5e842b7e3c6d9c",
            "ddebc078c2034b9f87c644ea4977b4a5",
            "241f2cd4eb154dcfafb04a9925c54a24",
            "7c2ed81a28c1451aa980a574c28b8d91",
            "439c9c00f7cb4adca76e51db23c72951",
            "8ee3bcadaee34dde896881b26830caeb",
            "0e225b4cb0e4437f92707957b6b6a430"
          ]
        }
      },
      "execution_count": 53,
      "outputs": [
        {
          "output_type": "display_data",
          "data": {
            "text/plain": [
              "Downloading:   0%|          | 0.00/28.0 [00:00<?, ?B/s]"
            ],
            "application/vnd.jupyter.widget-view+json": {
              "version_major": 2,
              "version_minor": 0,
              "model_id": "456b7478161643d19e16eaced91c1623"
            }
          },
          "metadata": {}
        },
        {
          "output_type": "display_data",
          "data": {
            "text/plain": [
              "Downloading:   0%|          | 0.00/226k [00:00<?, ?B/s]"
            ],
            "application/vnd.jupyter.widget-view+json": {
              "version_major": 2,
              "version_minor": 0,
              "model_id": "c653009265834d54a0664f619ab29680"
            }
          },
          "metadata": {}
        },
        {
          "output_type": "display_data",
          "data": {
            "text/plain": [
              "Downloading:   0%|          | 0.00/455k [00:00<?, ?B/s]"
            ],
            "application/vnd.jupyter.widget-view+json": {
              "version_major": 2,
              "version_minor": 0,
              "model_id": "453c15f7d16b4a8588db85c668b3b1c0"
            }
          },
          "metadata": {}
        },
        {
          "output_type": "display_data",
          "data": {
            "text/plain": [
              "Downloading:   0%|          | 0.00/483 [00:00<?, ?B/s]"
            ],
            "application/vnd.jupyter.widget-view+json": {
              "version_major": 2,
              "version_minor": 0,
              "model_id": "3e07a5c28a2c435e8d0ca680704b2174"
            }
          },
          "metadata": {}
        }
      ]
    },
    {
      "cell_type": "code",
      "source": [
        "train_texts2 = np.array(train_texts)\n",
        "val_texts2 = np.array(val_texts)\n",
        "X_test2 = np.array(X_test)"
      ],
      "metadata": {
        "id": "yqus9i_BFVyQ"
      },
      "execution_count": 54,
      "outputs": []
    },
    {
      "cell_type": "code",
      "source": [
        "train_texts2 = list(train_texts2.astype('str'))\n",
        "val_texts2 = list(val_texts2.astype('str'))\n",
        "X_test2 = list(X_test2.astype('str'))"
      ],
      "metadata": {
        "id": "iqf9gytlAqBx"
      },
      "execution_count": 55,
      "outputs": []
    },
    {
      "cell_type": "code",
      "source": [
        "train_encodings = tokenizer(train_texts2, truncation=True, padding=True)\n",
        "val_encodings = tokenizer(val_texts2, truncation=True, padding=True)\n",
        "test_encodings = tokenizer(X_test2, truncation=True, padding=True)"
      ],
      "metadata": {
        "id": "bo0d6bWQ4ld9"
      },
      "execution_count": 56,
      "outputs": []
    },
    {
      "cell_type": "code",
      "source": [
        "## PYTORCH CODE\n",
        "import torch\n",
        "\n",
        "class IMDbDataset(torch.utils.data.Dataset):\n",
        "    def __init__(self, encodings, labels):\n",
        "        self.encodings = encodings\n",
        "        self.labels = labels\n",
        "\n",
        "    def __getitem__(self, idx):\n",
        "        item = {key: torch.tensor(val[idx]) for key, val in self.encodings.items()}\n",
        "        item['labels'] = torch.tensor(self.labels[idx])\n",
        "        return item\n",
        "\n",
        "    def __len__(self):\n",
        "        return len(self.labels)\n",
        "\n",
        "train_dataset = IMDbDataset(train_encodings, train_labels)\n",
        "val_dataset = IMDbDataset(val_encodings, val_labels)\n",
        "test_dataset = IMDbDataset(test_encodings, test_labels)"
      ],
      "metadata": {
        "id": "sBjjpcOc6L7y"
      },
      "execution_count": 57,
      "outputs": []
    },
    {
      "cell_type": "code",
      "source": [
        "from sklearn.metrics import accuracy_score, precision_recall_fscore_support\n",
        "\n",
        "def compute_metrics(pred):\n",
        "    labels = pred.label_ids\n",
        "    preds = pred.predictions.argmax(-1)\n",
        "    precision, recall, f1, _ = precision_recall_fscore_support(labels, preds, average='weighted')\n",
        "    acc = accuracy_score(labels, preds)\n",
        "    return {\n",
        "        'accuracy': acc,\n",
        "        'f1': f1,\n",
        "        'precision': precision,\n",
        "        'recall': recall\n",
        "    }"
      ],
      "metadata": {
        "id": "Z53rnJymIKlf"
      },
      "execution_count": 58,
      "outputs": []
    },
    {
      "cell_type": "code",
      "source": [
        "from transformers import DistilBertForSequenceClassification\n",
        "\n",
        "modelBert = DistilBertForSequenceClassification.from_pretrained('distilbert-base-uncased', num_labels=4)"
      ],
      "metadata": {
        "id": "wD5jlngNIVUy",
        "outputId": "2870a528-9469-4464-adb0-0248f3bb6ecf",
        "colab": {
          "base_uri": "https://localhost:8080/",
          "height": 156,
          "referenced_widgets": [
            "ec81bd9842fc4f2a860412e250a23dfe",
            "037d63514a324ee196a72485b447ca2b",
            "1a13c3691af6440483f7fbb45d37e758",
            "f5e875f035ec44afa260b55b178d2abf",
            "e0c7ab53e8bc40de8cadf47e738df08e",
            "cb276795dd3a4614af8ab036c23d5b86",
            "f40c7c61de454a34950f7f3a5a46a5bb",
            "5ff3034c0aef49f4b42b9789c29db129",
            "ad00653627404fe695b951428cb6e3e4",
            "a6d0c2db2ecf4c24bed60f36dba6b6e6",
            "23c6e8e7be0d4b8a8e9b09679e6f2689"
          ]
        }
      },
      "execution_count": 59,
      "outputs": [
        {
          "output_type": "display_data",
          "data": {
            "text/plain": [
              "Downloading:   0%|          | 0.00/256M [00:00<?, ?B/s]"
            ],
            "application/vnd.jupyter.widget-view+json": {
              "version_major": 2,
              "version_minor": 0,
              "model_id": "ec81bd9842fc4f2a860412e250a23dfe"
            }
          },
          "metadata": {}
        },
        {
          "output_type": "stream",
          "name": "stderr",
          "text": [
            "Some weights of the model checkpoint at distilbert-base-uncased were not used when initializing DistilBertForSequenceClassification: ['vocab_projector.bias', 'vocab_projector.weight', 'vocab_transform.weight', 'vocab_transform.bias', 'vocab_layer_norm.weight', 'vocab_layer_norm.bias']\n",
            "- This IS expected if you are initializing DistilBertForSequenceClassification from the checkpoint of a model trained on another task or with another architecture (e.g. initializing a BertForSequenceClassification model from a BertForPreTraining model).\n",
            "- This IS NOT expected if you are initializing DistilBertForSequenceClassification from the checkpoint of a model that you expect to be exactly identical (initializing a BertForSequenceClassification model from a BertForSequenceClassification model).\n",
            "Some weights of DistilBertForSequenceClassification were not initialized from the model checkpoint at distilbert-base-uncased and are newly initialized: ['pre_classifier.bias', 'classifier.weight', 'classifier.bias', 'pre_classifier.weight']\n",
            "You should probably TRAIN this model on a down-stream task to be able to use it for predictions and inference.\n"
          ]
        }
      ]
    },
    {
      "cell_type": "code",
      "source": [
        "## PYTORCH CODE\n",
        "from transformers import DistilBertForSequenceClassification, Trainer, TrainingArguments, BertForSequenceClassification\n",
        "\n",
        "torch.set_grad_enabled(True) # Enable gradient calculation to perform the training\n",
        "\n",
        "training_args = TrainingArguments(\n",
        "    output_dir='./results',          # output directory\n",
        "    num_train_epochs=1,              # total number of training epochs\n",
        "    per_device_train_batch_size=16,  # batch size per device during training\n",
        "    per_device_eval_batch_size=64,   # batch size for evaluation\n",
        "    warmup_steps=100,                # number of warmup steps for learning rate scheduler\n",
        "    weight_decay=0.01,               # strength of weight decay\n",
        "    logging_dir='./logs',            # directory for storing logs\n",
        "    logging_steps=10,\n",
        "    do_eval=True,                    # enable/disable the evaluation on the validation set during the training\n",
        "    evaluation_strategy='steps',     # whether to validate the model each N steps or at the end of each epoch\n",
        "    eval_steps=10                    # If evaluation strategy is set to 'steps' then the model will be evaluted each 'eval_steps' on the validation set during the training\n",
        ")\n",
        "# If you want to customize more the training arguments...\n",
        "# https://huggingface.co/docs/transformers/main_classes/trainer#transformers.TrainingArguments\n",
        "\n",
        "\n",
        "trainer = Trainer(\n",
        "    model=modelBert,                     # the instantiated 🤗 Transformers model to be trained\n",
        "    args=training_args,                  # training arguments, defined above\n",
        "    train_dataset=train_dataset,         # training dataset\n",
        "    eval_dataset=val_dataset,            # evaluation dataset\n",
        "    compute_metrics=compute_metrics\n",
        ")\n",
        "\n",
        "trainer.train()"
      ],
      "metadata": {
        "id": "AfFSPjWJIaET",
        "colab": {
          "base_uri": "https://localhost:8080/",
          "height": 1000
        },
        "outputId": "a554bdb8-2def-4093-b36f-a759a92608b4"
      },
      "execution_count": 60,
      "outputs": [
        {
          "output_type": "stream",
          "name": "stderr",
          "text": [
            "/usr/local/lib/python3.7/dist-packages/transformers/optimization.py:310: FutureWarning: This implementation of AdamW is deprecated and will be removed in a future version. Use the PyTorch implementation torch.optim.AdamW instead, or set `no_deprecation_warning=True` to disable this warning\n",
            "  FutureWarning,\n",
            "***** Running training *****\n",
            "  Num examples = 9734\n",
            "  Num Epochs = 1\n",
            "  Instantaneous batch size per device = 16\n",
            "  Total train batch size (w. parallel, distributed & accumulation) = 16\n",
            "  Gradient Accumulation steps = 1\n",
            "  Total optimization steps = 609\n"
          ]
        },
        {
          "output_type": "display_data",
          "data": {
            "text/plain": [
              "<IPython.core.display.HTML object>"
            ],
            "text/html": [
              "\n",
              "    <div>\n",
              "      \n",
              "      <progress value='609' max='609' style='width:300px; height:20px; vertical-align: middle;'></progress>\n",
              "      [609/609 26:20, Epoch 1/1]\n",
              "    </div>\n",
              "    <table border=\"1\" class=\"dataframe\">\n",
              "  <thead>\n",
              " <tr style=\"text-align: left;\">\n",
              "      <th>Step</th>\n",
              "      <th>Training Loss</th>\n",
              "      <th>Validation Loss</th>\n",
              "      <th>Accuracy</th>\n",
              "      <th>F1</th>\n",
              "      <th>Precision</th>\n",
              "      <th>Recall</th>\n",
              "    </tr>\n",
              "  </thead>\n",
              "  <tbody>\n",
              "    <tr>\n",
              "      <td>10</td>\n",
              "      <td>1.383300</td>\n",
              "      <td>1.382730</td>\n",
              "      <td>0.254159</td>\n",
              "      <td>0.133555</td>\n",
              "      <td>0.142746</td>\n",
              "      <td>0.254159</td>\n",
              "    </tr>\n",
              "    <tr>\n",
              "      <td>20</td>\n",
              "      <td>1.379000</td>\n",
              "      <td>1.377059</td>\n",
              "      <td>0.313309</td>\n",
              "      <td>0.246521</td>\n",
              "      <td>0.377679</td>\n",
              "      <td>0.313309</td>\n",
              "    </tr>\n",
              "    <tr>\n",
              "      <td>30</td>\n",
              "      <td>1.364500</td>\n",
              "      <td>1.367709</td>\n",
              "      <td>0.295749</td>\n",
              "      <td>0.224289</td>\n",
              "      <td>0.342413</td>\n",
              "      <td>0.295749</td>\n",
              "    </tr>\n",
              "    <tr>\n",
              "      <td>40</td>\n",
              "      <td>1.367800</td>\n",
              "      <td>1.350084</td>\n",
              "      <td>0.325323</td>\n",
              "      <td>0.262312</td>\n",
              "      <td>0.334342</td>\n",
              "      <td>0.325323</td>\n",
              "    </tr>\n",
              "    <tr>\n",
              "      <td>50</td>\n",
              "      <td>1.340900</td>\n",
              "      <td>1.324731</td>\n",
              "      <td>0.371534</td>\n",
              "      <td>0.319709</td>\n",
              "      <td>0.490035</td>\n",
              "      <td>0.371534</td>\n",
              "    </tr>\n",
              "    <tr>\n",
              "      <td>60</td>\n",
              "      <td>1.316700</td>\n",
              "      <td>1.270226</td>\n",
              "      <td>0.457486</td>\n",
              "      <td>0.407862</td>\n",
              "      <td>0.576355</td>\n",
              "      <td>0.457486</td>\n",
              "    </tr>\n",
              "    <tr>\n",
              "      <td>70</td>\n",
              "      <td>1.207200</td>\n",
              "      <td>1.227631</td>\n",
              "      <td>0.403882</td>\n",
              "      <td>0.311749</td>\n",
              "      <td>0.424458</td>\n",
              "      <td>0.403882</td>\n",
              "    </tr>\n",
              "    <tr>\n",
              "      <td>80</td>\n",
              "      <td>1.145600</td>\n",
              "      <td>1.090992</td>\n",
              "      <td>0.501848</td>\n",
              "      <td>0.435960</td>\n",
              "      <td>0.492365</td>\n",
              "      <td>0.501848</td>\n",
              "    </tr>\n",
              "    <tr>\n",
              "      <td>90</td>\n",
              "      <td>1.070000</td>\n",
              "      <td>1.050106</td>\n",
              "      <td>0.477819</td>\n",
              "      <td>0.393339</td>\n",
              "      <td>0.472360</td>\n",
              "      <td>0.477819</td>\n",
              "    </tr>\n",
              "    <tr>\n",
              "      <td>100</td>\n",
              "      <td>0.978200</td>\n",
              "      <td>1.035561</td>\n",
              "      <td>0.484288</td>\n",
              "      <td>0.432417</td>\n",
              "      <td>0.567767</td>\n",
              "      <td>0.484288</td>\n",
              "    </tr>\n",
              "    <tr>\n",
              "      <td>110</td>\n",
              "      <td>1.080000</td>\n",
              "      <td>1.186544</td>\n",
              "      <td>0.472274</td>\n",
              "      <td>0.424472</td>\n",
              "      <td>0.548161</td>\n",
              "      <td>0.472274</td>\n",
              "    </tr>\n",
              "    <tr>\n",
              "      <td>120</td>\n",
              "      <td>1.039800</td>\n",
              "      <td>0.974038</td>\n",
              "      <td>0.533272</td>\n",
              "      <td>0.500482</td>\n",
              "      <td>0.511196</td>\n",
              "      <td>0.533272</td>\n",
              "    </tr>\n",
              "    <tr>\n",
              "      <td>130</td>\n",
              "      <td>0.972700</td>\n",
              "      <td>0.994162</td>\n",
              "      <td>0.524030</td>\n",
              "      <td>0.497386</td>\n",
              "      <td>0.502299</td>\n",
              "      <td>0.524030</td>\n",
              "    </tr>\n",
              "    <tr>\n",
              "      <td>140</td>\n",
              "      <td>1.030200</td>\n",
              "      <td>0.974458</td>\n",
              "      <td>0.530499</td>\n",
              "      <td>0.526781</td>\n",
              "      <td>0.529464</td>\n",
              "      <td>0.530499</td>\n",
              "    </tr>\n",
              "    <tr>\n",
              "      <td>150</td>\n",
              "      <td>1.035700</td>\n",
              "      <td>0.951630</td>\n",
              "      <td>0.546211</td>\n",
              "      <td>0.531108</td>\n",
              "      <td>0.564979</td>\n",
              "      <td>0.546211</td>\n",
              "    </tr>\n",
              "    <tr>\n",
              "      <td>160</td>\n",
              "      <td>0.999600</td>\n",
              "      <td>1.097700</td>\n",
              "      <td>0.456562</td>\n",
              "      <td>0.332766</td>\n",
              "      <td>0.387927</td>\n",
              "      <td>0.456562</td>\n",
              "    </tr>\n",
              "    <tr>\n",
              "      <td>170</td>\n",
              "      <td>0.964300</td>\n",
              "      <td>1.121836</td>\n",
              "      <td>0.526802</td>\n",
              "      <td>0.525706</td>\n",
              "      <td>0.576981</td>\n",
              "      <td>0.526802</td>\n",
              "    </tr>\n",
              "    <tr>\n",
              "      <td>180</td>\n",
              "      <td>1.109900</td>\n",
              "      <td>1.027468</td>\n",
              "      <td>0.487985</td>\n",
              "      <td>0.411846</td>\n",
              "      <td>0.558353</td>\n",
              "      <td>0.487985</td>\n",
              "    </tr>\n",
              "    <tr>\n",
              "      <td>190</td>\n",
              "      <td>0.959500</td>\n",
              "      <td>0.927691</td>\n",
              "      <td>0.537893</td>\n",
              "      <td>0.484816</td>\n",
              "      <td>0.500082</td>\n",
              "      <td>0.537893</td>\n",
              "    </tr>\n",
              "    <tr>\n",
              "      <td>200</td>\n",
              "      <td>0.976600</td>\n",
              "      <td>0.944209</td>\n",
              "      <td>0.525878</td>\n",
              "      <td>0.446938</td>\n",
              "      <td>0.475160</td>\n",
              "      <td>0.525878</td>\n",
              "    </tr>\n",
              "    <tr>\n",
              "      <td>210</td>\n",
              "      <td>1.041500</td>\n",
              "      <td>0.913901</td>\n",
              "      <td>0.554529</td>\n",
              "      <td>0.504770</td>\n",
              "      <td>0.549855</td>\n",
              "      <td>0.554529</td>\n",
              "    </tr>\n",
              "    <tr>\n",
              "      <td>220</td>\n",
              "      <td>0.960800</td>\n",
              "      <td>0.899841</td>\n",
              "      <td>0.560998</td>\n",
              "      <td>0.552050</td>\n",
              "      <td>0.552318</td>\n",
              "      <td>0.560998</td>\n",
              "    </tr>\n",
              "    <tr>\n",
              "      <td>230</td>\n",
              "      <td>0.981500</td>\n",
              "      <td>0.921537</td>\n",
              "      <td>0.560074</td>\n",
              "      <td>0.546797</td>\n",
              "      <td>0.553447</td>\n",
              "      <td>0.560074</td>\n",
              "    </tr>\n",
              "    <tr>\n",
              "      <td>240</td>\n",
              "      <td>0.965800</td>\n",
              "      <td>0.885473</td>\n",
              "      <td>0.571165</td>\n",
              "      <td>0.562683</td>\n",
              "      <td>0.564057</td>\n",
              "      <td>0.571165</td>\n",
              "    </tr>\n",
              "    <tr>\n",
              "      <td>250</td>\n",
              "      <td>0.941700</td>\n",
              "      <td>0.880783</td>\n",
              "      <td>0.573013</td>\n",
              "      <td>0.564770</td>\n",
              "      <td>0.567471</td>\n",
              "      <td>0.573013</td>\n",
              "    </tr>\n",
              "    <tr>\n",
              "      <td>260</td>\n",
              "      <td>0.851100</td>\n",
              "      <td>0.872275</td>\n",
              "      <td>0.580407</td>\n",
              "      <td>0.576109</td>\n",
              "      <td>0.577099</td>\n",
              "      <td>0.580407</td>\n",
              "    </tr>\n",
              "    <tr>\n",
              "      <td>270</td>\n",
              "      <td>0.924400</td>\n",
              "      <td>0.890113</td>\n",
              "      <td>0.580407</td>\n",
              "      <td>0.562859</td>\n",
              "      <td>0.584558</td>\n",
              "      <td>0.580407</td>\n",
              "    </tr>\n",
              "    <tr>\n",
              "      <td>280</td>\n",
              "      <td>0.924600</td>\n",
              "      <td>0.872620</td>\n",
              "      <td>0.592421</td>\n",
              "      <td>0.586438</td>\n",
              "      <td>0.609262</td>\n",
              "      <td>0.592421</td>\n",
              "    </tr>\n",
              "    <tr>\n",
              "      <td>290</td>\n",
              "      <td>0.920300</td>\n",
              "      <td>0.858281</td>\n",
              "      <td>0.615527</td>\n",
              "      <td>0.609967</td>\n",
              "      <td>0.612725</td>\n",
              "      <td>0.615527</td>\n",
              "    </tr>\n",
              "    <tr>\n",
              "      <td>300</td>\n",
              "      <td>0.923900</td>\n",
              "      <td>0.876200</td>\n",
              "      <td>0.602588</td>\n",
              "      <td>0.599442</td>\n",
              "      <td>0.603473</td>\n",
              "      <td>0.602588</td>\n",
              "    </tr>\n",
              "    <tr>\n",
              "      <td>310</td>\n",
              "      <td>0.953600</td>\n",
              "      <td>0.881587</td>\n",
              "      <td>0.588725</td>\n",
              "      <td>0.582171</td>\n",
              "      <td>0.590964</td>\n",
              "      <td>0.588725</td>\n",
              "    </tr>\n",
              "    <tr>\n",
              "      <td>320</td>\n",
              "      <td>0.914300</td>\n",
              "      <td>0.856081</td>\n",
              "      <td>0.611830</td>\n",
              "      <td>0.610073</td>\n",
              "      <td>0.616963</td>\n",
              "      <td>0.611830</td>\n",
              "    </tr>\n",
              "    <tr>\n",
              "      <td>330</td>\n",
              "      <td>0.872700</td>\n",
              "      <td>0.860155</td>\n",
              "      <td>0.619224</td>\n",
              "      <td>0.617266</td>\n",
              "      <td>0.619982</td>\n",
              "      <td>0.619224</td>\n",
              "    </tr>\n",
              "    <tr>\n",
              "      <td>340</td>\n",
              "      <td>0.939800</td>\n",
              "      <td>0.917061</td>\n",
              "      <td>0.573013</td>\n",
              "      <td>0.562810</td>\n",
              "      <td>0.642078</td>\n",
              "      <td>0.573013</td>\n",
              "    </tr>\n",
              "    <tr>\n",
              "      <td>350</td>\n",
              "      <td>0.909300</td>\n",
              "      <td>0.854269</td>\n",
              "      <td>0.618299</td>\n",
              "      <td>0.616092</td>\n",
              "      <td>0.615938</td>\n",
              "      <td>0.618299</td>\n",
              "    </tr>\n",
              "    <tr>\n",
              "      <td>360</td>\n",
              "      <td>0.823300</td>\n",
              "      <td>0.863377</td>\n",
              "      <td>0.605360</td>\n",
              "      <td>0.601926</td>\n",
              "      <td>0.611066</td>\n",
              "      <td>0.605360</td>\n",
              "    </tr>\n",
              "    <tr>\n",
              "      <td>370</td>\n",
              "      <td>0.918500</td>\n",
              "      <td>0.880867</td>\n",
              "      <td>0.589649</td>\n",
              "      <td>0.590993</td>\n",
              "      <td>0.614631</td>\n",
              "      <td>0.589649</td>\n",
              "    </tr>\n",
              "    <tr>\n",
              "      <td>380</td>\n",
              "      <td>0.939500</td>\n",
              "      <td>0.851359</td>\n",
              "      <td>0.623845</td>\n",
              "      <td>0.625089</td>\n",
              "      <td>0.628789</td>\n",
              "      <td>0.623845</td>\n",
              "    </tr>\n",
              "    <tr>\n",
              "      <td>390</td>\n",
              "      <td>0.859200</td>\n",
              "      <td>0.861970</td>\n",
              "      <td>0.606285</td>\n",
              "      <td>0.608536</td>\n",
              "      <td>0.617216</td>\n",
              "      <td>0.606285</td>\n",
              "    </tr>\n",
              "    <tr>\n",
              "      <td>400</td>\n",
              "      <td>0.889100</td>\n",
              "      <td>0.855352</td>\n",
              "      <td>0.621996</td>\n",
              "      <td>0.614935</td>\n",
              "      <td>0.619546</td>\n",
              "      <td>0.621996</td>\n",
              "    </tr>\n",
              "    <tr>\n",
              "      <td>410</td>\n",
              "      <td>0.908700</td>\n",
              "      <td>0.848862</td>\n",
              "      <td>0.630314</td>\n",
              "      <td>0.631684</td>\n",
              "      <td>0.645850</td>\n",
              "      <td>0.630314</td>\n",
              "    </tr>\n",
              "    <tr>\n",
              "      <td>420</td>\n",
              "      <td>0.854600</td>\n",
              "      <td>0.854789</td>\n",
              "      <td>0.615527</td>\n",
              "      <td>0.616802</td>\n",
              "      <td>0.636250</td>\n",
              "      <td>0.615527</td>\n",
              "    </tr>\n",
              "    <tr>\n",
              "      <td>430</td>\n",
              "      <td>0.870300</td>\n",
              "      <td>0.847731</td>\n",
              "      <td>0.611830</td>\n",
              "      <td>0.605330</td>\n",
              "      <td>0.613900</td>\n",
              "      <td>0.611830</td>\n",
              "    </tr>\n",
              "    <tr>\n",
              "      <td>440</td>\n",
              "      <td>0.866400</td>\n",
              "      <td>0.846359</td>\n",
              "      <td>0.621072</td>\n",
              "      <td>0.612386</td>\n",
              "      <td>0.622493</td>\n",
              "      <td>0.621072</td>\n",
              "    </tr>\n",
              "    <tr>\n",
              "      <td>450</td>\n",
              "      <td>0.883800</td>\n",
              "      <td>0.833615</td>\n",
              "      <td>0.628466</td>\n",
              "      <td>0.625740</td>\n",
              "      <td>0.628970</td>\n",
              "      <td>0.628466</td>\n",
              "    </tr>\n",
              "    <tr>\n",
              "      <td>460</td>\n",
              "      <td>0.826400</td>\n",
              "      <td>0.833741</td>\n",
              "      <td>0.621996</td>\n",
              "      <td>0.623975</td>\n",
              "      <td>0.631079</td>\n",
              "      <td>0.621996</td>\n",
              "    </tr>\n",
              "    <tr>\n",
              "      <td>470</td>\n",
              "      <td>0.909700</td>\n",
              "      <td>0.832017</td>\n",
              "      <td>0.617375</td>\n",
              "      <td>0.615051</td>\n",
              "      <td>0.617588</td>\n",
              "      <td>0.617375</td>\n",
              "    </tr>\n",
              "    <tr>\n",
              "      <td>480</td>\n",
              "      <td>0.905500</td>\n",
              "      <td>0.839052</td>\n",
              "      <td>0.616451</td>\n",
              "      <td>0.613740</td>\n",
              "      <td>0.618395</td>\n",
              "      <td>0.616451</td>\n",
              "    </tr>\n",
              "    <tr>\n",
              "      <td>490</td>\n",
              "      <td>0.903600</td>\n",
              "      <td>0.827238</td>\n",
              "      <td>0.618299</td>\n",
              "      <td>0.614211</td>\n",
              "      <td>0.615977</td>\n",
              "      <td>0.618299</td>\n",
              "    </tr>\n",
              "    <tr>\n",
              "      <td>500</td>\n",
              "      <td>0.815300</td>\n",
              "      <td>0.825807</td>\n",
              "      <td>0.610906</td>\n",
              "      <td>0.610052</td>\n",
              "      <td>0.611570</td>\n",
              "      <td>0.610906</td>\n",
              "    </tr>\n",
              "    <tr>\n",
              "      <td>510</td>\n",
              "      <td>0.872800</td>\n",
              "      <td>0.828242</td>\n",
              "      <td>0.622921</td>\n",
              "      <td>0.622207</td>\n",
              "      <td>0.624301</td>\n",
              "      <td>0.622921</td>\n",
              "    </tr>\n",
              "    <tr>\n",
              "      <td>520</td>\n",
              "      <td>0.833500</td>\n",
              "      <td>0.830752</td>\n",
              "      <td>0.622921</td>\n",
              "      <td>0.621043</td>\n",
              "      <td>0.623617</td>\n",
              "      <td>0.622921</td>\n",
              "    </tr>\n",
              "    <tr>\n",
              "      <td>530</td>\n",
              "      <td>0.797700</td>\n",
              "      <td>0.828704</td>\n",
              "      <td>0.614603</td>\n",
              "      <td>0.606413</td>\n",
              "      <td>0.612840</td>\n",
              "      <td>0.614603</td>\n",
              "    </tr>\n",
              "    <tr>\n",
              "      <td>540</td>\n",
              "      <td>0.870300</td>\n",
              "      <td>0.825093</td>\n",
              "      <td>0.603512</td>\n",
              "      <td>0.597724</td>\n",
              "      <td>0.597892</td>\n",
              "      <td>0.603512</td>\n",
              "    </tr>\n",
              "    <tr>\n",
              "      <td>550</td>\n",
              "      <td>0.769500</td>\n",
              "      <td>0.823147</td>\n",
              "      <td>0.610906</td>\n",
              "      <td>0.604733</td>\n",
              "      <td>0.607569</td>\n",
              "      <td>0.610906</td>\n",
              "    </tr>\n",
              "    <tr>\n",
              "      <td>560</td>\n",
              "      <td>0.927600</td>\n",
              "      <td>0.827948</td>\n",
              "      <td>0.618299</td>\n",
              "      <td>0.610695</td>\n",
              "      <td>0.615734</td>\n",
              "      <td>0.618299</td>\n",
              "    </tr>\n",
              "    <tr>\n",
              "      <td>570</td>\n",
              "      <td>0.886500</td>\n",
              "      <td>0.823491</td>\n",
              "      <td>0.620148</td>\n",
              "      <td>0.614627</td>\n",
              "      <td>0.617418</td>\n",
              "      <td>0.620148</td>\n",
              "    </tr>\n",
              "    <tr>\n",
              "      <td>580</td>\n",
              "      <td>0.844200</td>\n",
              "      <td>0.821051</td>\n",
              "      <td>0.617375</td>\n",
              "      <td>0.613634</td>\n",
              "      <td>0.614486</td>\n",
              "      <td>0.617375</td>\n",
              "    </tr>\n",
              "    <tr>\n",
              "      <td>590</td>\n",
              "      <td>0.778400</td>\n",
              "      <td>0.819993</td>\n",
              "      <td>0.623845</td>\n",
              "      <td>0.621419</td>\n",
              "      <td>0.621548</td>\n",
              "      <td>0.623845</td>\n",
              "    </tr>\n",
              "    <tr>\n",
              "      <td>600</td>\n",
              "      <td>0.821400</td>\n",
              "      <td>0.819386</td>\n",
              "      <td>0.626617</td>\n",
              "      <td>0.625243</td>\n",
              "      <td>0.625186</td>\n",
              "      <td>0.626617</td>\n",
              "    </tr>\n",
              "  </tbody>\n",
              "</table><p>"
            ]
          },
          "metadata": {}
        },
        {
          "output_type": "stream",
          "name": "stderr",
          "text": [
            "***** Running Evaluation *****\n",
            "  Num examples = 1082\n",
            "  Batch size = 64\n",
            "/usr/local/lib/python3.7/dist-packages/sklearn/metrics/_classification.py:1318: UndefinedMetricWarning: Precision and F-score are ill-defined and being set to 0.0 in labels with no predicted samples. Use `zero_division` parameter to control this behavior.\n",
            "  _warn_prf(average, modifier, msg_start, len(result))\n",
            "***** Running Evaluation *****\n",
            "  Num examples = 1082\n",
            "  Batch size = 64\n",
            "***** Running Evaluation *****\n",
            "  Num examples = 1082\n",
            "  Batch size = 64\n",
            "***** Running Evaluation *****\n",
            "  Num examples = 1082\n",
            "  Batch size = 64\n",
            "***** Running Evaluation *****\n",
            "  Num examples = 1082\n",
            "  Batch size = 64\n",
            "***** Running Evaluation *****\n",
            "  Num examples = 1082\n",
            "  Batch size = 64\n",
            "***** Running Evaluation *****\n",
            "  Num examples = 1082\n",
            "  Batch size = 64\n",
            "***** Running Evaluation *****\n",
            "  Num examples = 1082\n",
            "  Batch size = 64\n",
            "***** Running Evaluation *****\n",
            "  Num examples = 1082\n",
            "  Batch size = 64\n",
            "***** Running Evaluation *****\n",
            "  Num examples = 1082\n",
            "  Batch size = 64\n",
            "***** Running Evaluation *****\n",
            "  Num examples = 1082\n",
            "  Batch size = 64\n",
            "***** Running Evaluation *****\n",
            "  Num examples = 1082\n",
            "  Batch size = 64\n",
            "***** Running Evaluation *****\n",
            "  Num examples = 1082\n",
            "  Batch size = 64\n",
            "***** Running Evaluation *****\n",
            "  Num examples = 1082\n",
            "  Batch size = 64\n",
            "***** Running Evaluation *****\n",
            "  Num examples = 1082\n",
            "  Batch size = 64\n",
            "***** Running Evaluation *****\n",
            "  Num examples = 1082\n",
            "  Batch size = 64\n",
            "***** Running Evaluation *****\n",
            "  Num examples = 1082\n",
            "  Batch size = 64\n",
            "***** Running Evaluation *****\n",
            "  Num examples = 1082\n",
            "  Batch size = 64\n",
            "***** Running Evaluation *****\n",
            "  Num examples = 1082\n",
            "  Batch size = 64\n",
            "***** Running Evaluation *****\n",
            "  Num examples = 1082\n",
            "  Batch size = 64\n",
            "***** Running Evaluation *****\n",
            "  Num examples = 1082\n",
            "  Batch size = 64\n",
            "***** Running Evaluation *****\n",
            "  Num examples = 1082\n",
            "  Batch size = 64\n",
            "***** Running Evaluation *****\n",
            "  Num examples = 1082\n",
            "  Batch size = 64\n",
            "***** Running Evaluation *****\n",
            "  Num examples = 1082\n",
            "  Batch size = 64\n",
            "***** Running Evaluation *****\n",
            "  Num examples = 1082\n",
            "  Batch size = 64\n",
            "***** Running Evaluation *****\n",
            "  Num examples = 1082\n",
            "  Batch size = 64\n",
            "***** Running Evaluation *****\n",
            "  Num examples = 1082\n",
            "  Batch size = 64\n",
            "***** Running Evaluation *****\n",
            "  Num examples = 1082\n",
            "  Batch size = 64\n",
            "***** Running Evaluation *****\n",
            "  Num examples = 1082\n",
            "  Batch size = 64\n",
            "***** Running Evaluation *****\n",
            "  Num examples = 1082\n",
            "  Batch size = 64\n",
            "***** Running Evaluation *****\n",
            "  Num examples = 1082\n",
            "  Batch size = 64\n",
            "***** Running Evaluation *****\n",
            "  Num examples = 1082\n",
            "  Batch size = 64\n",
            "***** Running Evaluation *****\n",
            "  Num examples = 1082\n",
            "  Batch size = 64\n",
            "***** Running Evaluation *****\n",
            "  Num examples = 1082\n",
            "  Batch size = 64\n",
            "***** Running Evaluation *****\n",
            "  Num examples = 1082\n",
            "  Batch size = 64\n",
            "***** Running Evaluation *****\n",
            "  Num examples = 1082\n",
            "  Batch size = 64\n",
            "***** Running Evaluation *****\n",
            "  Num examples = 1082\n",
            "  Batch size = 64\n",
            "***** Running Evaluation *****\n",
            "  Num examples = 1082\n",
            "  Batch size = 64\n",
            "***** Running Evaluation *****\n",
            "  Num examples = 1082\n",
            "  Batch size = 64\n",
            "***** Running Evaluation *****\n",
            "  Num examples = 1082\n",
            "  Batch size = 64\n",
            "***** Running Evaluation *****\n",
            "  Num examples = 1082\n",
            "  Batch size = 64\n",
            "***** Running Evaluation *****\n",
            "  Num examples = 1082\n",
            "  Batch size = 64\n",
            "***** Running Evaluation *****\n",
            "  Num examples = 1082\n",
            "  Batch size = 64\n",
            "***** Running Evaluation *****\n",
            "  Num examples = 1082\n",
            "  Batch size = 64\n",
            "***** Running Evaluation *****\n",
            "  Num examples = 1082\n",
            "  Batch size = 64\n",
            "***** Running Evaluation *****\n",
            "  Num examples = 1082\n",
            "  Batch size = 64\n",
            "***** Running Evaluation *****\n",
            "  Num examples = 1082\n",
            "  Batch size = 64\n",
            "***** Running Evaluation *****\n",
            "  Num examples = 1082\n",
            "  Batch size = 64\n",
            "***** Running Evaluation *****\n",
            "  Num examples = 1082\n",
            "  Batch size = 64\n",
            "***** Running Evaluation *****\n",
            "  Num examples = 1082\n",
            "  Batch size = 64\n",
            "Saving model checkpoint to ./results/checkpoint-500\n",
            "Configuration saved in ./results/checkpoint-500/config.json\n",
            "Model weights saved in ./results/checkpoint-500/pytorch_model.bin\n",
            "***** Running Evaluation *****\n",
            "  Num examples = 1082\n",
            "  Batch size = 64\n",
            "***** Running Evaluation *****\n",
            "  Num examples = 1082\n",
            "  Batch size = 64\n",
            "***** Running Evaluation *****\n",
            "  Num examples = 1082\n",
            "  Batch size = 64\n",
            "***** Running Evaluation *****\n",
            "  Num examples = 1082\n",
            "  Batch size = 64\n",
            "***** Running Evaluation *****\n",
            "  Num examples = 1082\n",
            "  Batch size = 64\n",
            "***** Running Evaluation *****\n",
            "  Num examples = 1082\n",
            "  Batch size = 64\n",
            "***** Running Evaluation *****\n",
            "  Num examples = 1082\n",
            "  Batch size = 64\n",
            "***** Running Evaluation *****\n",
            "  Num examples = 1082\n",
            "  Batch size = 64\n",
            "***** Running Evaluation *****\n",
            "  Num examples = 1082\n",
            "  Batch size = 64\n",
            "***** Running Evaluation *****\n",
            "  Num examples = 1082\n",
            "  Batch size = 64\n",
            "\n",
            "\n",
            "Training completed. Do not forget to share your model on huggingface.co/models =)\n",
            "\n",
            "\n"
          ]
        },
        {
          "output_type": "execute_result",
          "data": {
            "text/plain": [
              "TrainOutput(global_step=609, training_loss=0.96980144472545, metrics={'train_runtime': 1581.1374, 'train_samples_per_second': 6.156, 'train_steps_per_second': 0.385, 'total_flos': 1289483649097728.0, 'train_loss': 0.96980144472545, 'epoch': 1.0})"
            ]
          },
          "metadata": {},
          "execution_count": 60
        }
      ]
    },
    {
      "cell_type": "code",
      "source": [
        "trainer.evaluate(test_dataset)"
      ],
      "metadata": {
        "id": "-uPScgJIIesO",
        "colab": {
          "base_uri": "https://localhost:8080/",
          "height": 245
        },
        "outputId": "b4884564-bc53-4e8a-dfaa-a205e620ad41"
      },
      "execution_count": 61,
      "outputs": [
        {
          "output_type": "stream",
          "name": "stderr",
          "text": [
            "***** Running Evaluation *****\n",
            "  Num examples = 20088\n",
            "  Batch size = 64\n"
          ]
        },
        {
          "output_type": "display_data",
          "data": {
            "text/plain": [
              "<IPython.core.display.HTML object>"
            ],
            "text/html": [
              "\n",
              "    <div>\n",
              "      \n",
              "      <progress value='314' max='314' style='width:300px; height:20px; vertical-align: middle;'></progress>\n",
              "      [314/314 05:43]\n",
              "    </div>\n",
              "    "
            ]
          },
          "metadata": {}
        },
        {
          "output_type": "execute_result",
          "data": {
            "text/plain": [
              "{'epoch': 1.0,\n",
              " 'eval_accuracy': 0.6133014735165273,\n",
              " 'eval_f1': 0.6112487166955682,\n",
              " 'eval_loss': 0.820906400680542,\n",
              " 'eval_precision': 0.6109203635990749,\n",
              " 'eval_recall': 0.6133014735165273,\n",
              " 'eval_runtime': 344.5546,\n",
              " 'eval_samples_per_second': 58.301,\n",
              " 'eval_steps_per_second': 0.911}"
            ]
          },
          "metadata": {},
          "execution_count": 61
        }
      ]
    },
    {
      "cell_type": "code",
      "source": [
        "sentence_to_be_classified = \"EXAMPLE\"  # You can type an arbitrary sentence to be summarized\n",
        "sentence_to_be_classified2 = \"2 EXAMPLE\""
      ],
      "metadata": {
        "id": "KzrAKbfbDlOt"
      },
      "execution_count": 62,
      "outputs": []
    },
    {
      "cell_type": "code",
      "source": [
        "def prova(we):\n",
        "  on_demand_test_encodings = tokenizer([we], truncation=True, padding=True)\n",
        "  on_demand_test_dataset = IMDbDataset(on_demand_test_encodings, le.transform(['neg']))\n",
        "\n",
        "  result = trainer.predict(on_demand_test_dataset)\n",
        "  print(\"Logits: \" + str(result.predictions))\n",
        "  return result.predictions"
      ],
      "metadata": {
        "id": "pAv7cqSKDmF-"
      },
      "execution_count": 63,
      "outputs": []
    },
    {
      "cell_type": "code",
      "source": [
        "pos= prova(sentence_to_be_classified)"
      ],
      "metadata": {
        "id": "M43FWnkhDvCs",
        "colab": {
          "base_uri": "https://localhost:8080/",
          "height": 196
        },
        "outputId": "08a6ecc4-1563-401b-c441-690735b5c7ef"
      },
      "execution_count": 64,
      "outputs": [
        {
          "output_type": "stream",
          "name": "stderr",
          "text": [
            "***** Running Prediction *****\n",
            "  Num examples = 1\n",
            "  Batch size = 64\n"
          ]
        },
        {
          "output_type": "display_data",
          "data": {
            "text/plain": [
              "<IPython.core.display.HTML object>"
            ],
            "text/html": [
              "\n",
              "    <div>\n",
              "      \n",
              "      <progress value='315' max='314' style='width:300px; height:20px; vertical-align: middle;'></progress>\n",
              "      [314/314 05:43]\n",
              "    </div>\n",
              "    "
            ]
          },
          "metadata": {}
        },
        {
          "output_type": "stream",
          "name": "stdout",
          "text": [
            "Logits: [[-0.7232507  0.8160264 -1.1479948  1.220555 ]]\n"
          ]
        },
        {
          "output_type": "stream",
          "name": "stderr",
          "text": [
            "/usr/local/lib/python3.7/dist-packages/sklearn/metrics/_classification.py:1318: UndefinedMetricWarning: Precision and F-score are ill-defined and being set to 0.0 in labels with no predicted samples. Use `zero_division` parameter to control this behavior.\n",
            "  _warn_prf(average, modifier, msg_start, len(result))\n",
            "/usr/local/lib/python3.7/dist-packages/sklearn/metrics/_classification.py:1318: UndefinedMetricWarning: Recall and F-score are ill-defined and being set to 0.0 in labels with no true samples. Use `zero_division` parameter to control this behavior.\n",
            "  _warn_prf(average, modifier, msg_start, len(result))\n"
          ]
        }
      ]
    },
    {
      "cell_type": "code",
      "source": [
        "neg= prova(sentence_to_be_classified2)"
      ],
      "metadata": {
        "id": "Hng_sCQBDx6O",
        "colab": {
          "base_uri": "https://localhost:8080/",
          "height": 196
        },
        "outputId": "f5c19ece-4c32-4f74-d7b6-d439581d8d01"
      },
      "execution_count": 65,
      "outputs": [
        {
          "output_type": "stream",
          "name": "stderr",
          "text": [
            "***** Running Prediction *****\n",
            "  Num examples = 1\n",
            "  Batch size = 64\n"
          ]
        },
        {
          "output_type": "display_data",
          "data": {
            "text/plain": [
              "<IPython.core.display.HTML object>"
            ],
            "text/html": [
              "\n",
              "    <div>\n",
              "      \n",
              "      <progress value='316' max='314' style='width:300px; height:20px; vertical-align: middle;'></progress>\n",
              "      [314/314 05:43]\n",
              "    </div>\n",
              "    "
            ]
          },
          "metadata": {}
        },
        {
          "output_type": "stream",
          "name": "stdout",
          "text": [
            "Logits: [[-0.47256863  0.6786541  -0.9710839   0.8361686 ]]\n"
          ]
        },
        {
          "output_type": "stream",
          "name": "stderr",
          "text": [
            "/usr/local/lib/python3.7/dist-packages/sklearn/metrics/_classification.py:1318: UndefinedMetricWarning: Precision and F-score are ill-defined and being set to 0.0 in labels with no predicted samples. Use `zero_division` parameter to control this behavior.\n",
            "  _warn_prf(average, modifier, msg_start, len(result))\n",
            "/usr/local/lib/python3.7/dist-packages/sklearn/metrics/_classification.py:1318: UndefinedMetricWarning: Recall and F-score are ill-defined and being set to 0.0 in labels with no true samples. Use `zero_division` parameter to control this behavior.\n",
            "  _warn_prf(average, modifier, msg_start, len(result))\n"
          ]
        }
      ]
    },
    {
      "cell_type": "code",
      "source": [
        "import torch\n",
        "#probabilities function\n",
        "def prob(we):\n",
        "  # Convert logits to probabilities using softmax\n",
        "  p = torch.nn.functional.softmax(torch.from_numpy(we), dim=1)\n",
        "  print(\"Probabilities: \" + str(p))\n",
        "\n",
        "  # Get the predicted classes for each output\n",
        "  top_p, top_class = p.topk(1, dim = 1)\n",
        "  print(\"Top class: \" + str(top_class[0][0].item()))\n",
        "\n",
        "  print() \n",
        "\n",
        "  if (top_class.numpy()[0] == 1):\n",
        "    print('The sentence polarity is positive')\n",
        "  else:\n",
        "    print('The sentence polarity is negative.')"
      ],
      "metadata": {
        "id": "ZcJGzA8qDzdC"
      },
      "execution_count": 66,
      "outputs": []
    },
    {
      "cell_type": "code",
      "source": [
        "prob(pos)"
      ],
      "metadata": {
        "id": "6zjJn1HoD1Wh",
        "colab": {
          "base_uri": "https://localhost:8080/"
        },
        "outputId": "e5e9d1d0-2750-464e-8359-76399136578e"
      },
      "execution_count": 67,
      "outputs": [
        {
          "output_type": "stream",
          "name": "stdout",
          "text": [
            "Probabilities: tensor([[0.0752, 0.3505, 0.0492, 0.5252]])\n",
            "Top class: 3\n",
            "\n",
            "The sentence polarity is negative.\n"
          ]
        }
      ]
    },
    {
      "cell_type": "code",
      "source": [
        "prob(neg)"
      ],
      "metadata": {
        "id": "jHTm1sZWD2sf",
        "colab": {
          "base_uri": "https://localhost:8080/"
        },
        "outputId": "7a2f0504-c3b7-4b81-9c77-24948c5cd46a"
      },
      "execution_count": 68,
      "outputs": [
        {
          "output_type": "stream",
          "name": "stdout",
          "text": [
            "Probabilities: tensor([[0.1181, 0.3733, 0.0717, 0.4370]])\n",
            "Top class: 3\n",
            "\n",
            "The sentence polarity is negative.\n"
          ]
        }
      ]
    }
  ]
}